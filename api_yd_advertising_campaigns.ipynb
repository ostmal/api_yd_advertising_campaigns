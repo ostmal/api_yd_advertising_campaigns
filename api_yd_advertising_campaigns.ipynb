{
 "cells": [
  {
   "cell_type": "markdown",
   "id": "f155b68c",
   "metadata": {},
   "source": [
    "# API «Яндекс-Директ» - Базовые функции управления рекламной кампанией"
   ]
  },
  {
   "cell_type": "code",
   "execution_count": 1,
   "id": "901193f2",
   "metadata": {},
   "outputs": [],
   "source": [
    "# https://github.com/esliklientovnet/YaDirect_lib/blob/master/__init__.py\n",
    "# https://github.com/esliklientovnet/sync_minus/blob/master/sync_minus.py#L120    "
   ]
  },
  {
   "cell_type": "code",
   "execution_count": 1,
   "id": "69aba377",
   "metadata": {},
   "outputs": [],
   "source": [
    "import pandas as pd\n",
    "# import yaDirect\n",
    "import time\n",
    "import gspread\n",
    "from oauth2client.service_account import ServiceAccountCredentials\n",
    "\n",
    "# Вывод всех операций в Jupyter\n",
    "from IPython.core.interactiveshell import InteractiveShell\n",
    "InteractiveShell.ast_node_interactivity = \"all\"\n",
    "\n",
    "import logging\n",
    "# Чтобы выводить на экран\n",
    "logger = logging.getLogger()\n",
    "logger.setLevel(logging.INFO)\n",
    "\n",
    "\n",
    "from lib.yaDirect import *"
   ]
  },
  {
   "cell_type": "markdown",
   "id": "6cdeaba7",
   "metadata": {},
   "source": [
    "### Параметры доступа к Я-Д"
   ]
  },
  {
   "cell_type": "code",
   "execution_count": 2,
   "id": "2d8bc36b",
   "metadata": {},
   "outputs": [],
   "source": [
    "login = '***************'\n",
    "token = '*****************************************'"
   ]
  },
  {
   "cell_type": "code",
   "execution_count": 3,
   "id": "cbbddf26",
   "metadata": {},
   "outputs": [],
   "source": [
    "# Установить соединения с API Яндекс-Директ\n",
    "direct = yaDirect(token, login )"
   ]
  },
  {
   "cell_type": "code",
   "execution_count": 3,
   "id": "8aacaf00",
   "metadata": {},
   "outputs": [],
   "source": [
    "def result_to_df(result, FieldNames):\n",
    "    \"\"\"\n",
    "    Преобразуем result (в виде списка словарей) в Датафрейм\n",
    "    \"\"\"\n",
    "    # Получаем ДАННЫЕ\n",
    "    data_list = []\n",
    "    for el in result:\n",
    "        current_date = []\n",
    "        for column in FieldNames:\n",
    "            current_date.append(el[column])\n",
    "        data_list.append(current_date)\n",
    "\n",
    "    # Делаем датафрейм\n",
    "    df = pd.DataFrame(data_list, columns=FieldNames)\n",
    "    return df"
   ]
  },
  {
   "cell_type": "code",
   "execution_count": null,
   "id": "f8cd31b8",
   "metadata": {},
   "outputs": [],
   "source": []
  },
  {
   "cell_type": "markdown",
   "id": "2441d48d",
   "metadata": {},
   "source": [
    "# Campaigns"
   ]
  },
  {
   "cell_type": "markdown",
   "id": "2133956b",
   "metadata": {},
   "source": [
    "### get - Возвращает список РК"
   ]
  },
  {
   "cell_type": "code",
   "execution_count": 5,
   "id": "58caf027",
   "metadata": {
    "scrolled": false
   },
   "outputs": [
    {
     "data": {
      "text/plain": [
       "{'result': {'Campaigns': [{'Name': 'Rus_БУ смартфоны-svyaznoy',\n",
       "    'Id': 65628948},\n",
       "   {'Name': 'MSK_Поиск_БУ', 'Id': 65628984},\n",
       "   {'Name': 'SPb_Поиск_БУ', 'Id': 65628995},\n",
       "   {'Id': 65629004, 'Name': 'Поиск|Общие'},\n",
       "   {'Name': 'ВЧ_Поиск_конверсии', 'Id': 65629014},\n",
       "   {'Id': 66053066, 'Name': 'Смарт-баннеры'},\n",
       "   {'Id': 66054403, 'Name': 'Динамические объявления'},\n",
       "   {'Id': 66089423, 'Name': 'Rus_РСЯ_БУ'},\n",
       "   {'Id': 66089435, 'Name': 'Ретаргетинг'},\n",
       "   {'Id': 66089444, 'Name': 'РСЯ|БУ'},\n",
       "   {'Id': 66089460, 'Name': 'SPb_РСЯ_БУ'},\n",
       "   {'Name': 'РСЯ|Общие', 'Id': 66089478},\n",
       "   {'Name': 'ВЧ|РСЯ|Конверсии', 'Id': 66089484},\n",
       "   {'Name': 'Поиск|Бренд', 'Id': 66418007},\n",
       "   {'Name': 'Конкуренты', 'Id': 66419231},\n",
       "   {'Name': 'Автотаргетинг_Поиск', 'Id': 70625765},\n",
       "   {'Id': 71310926, 'Name': 'Поиск_доп.ассортимент'},\n",
       "   {'Name': 'Поиск|Samsung (Клики)', 'Id': 72383433},\n",
       "   {'Name': 'Поиск|Samsung', 'Id': 72383443},\n",
       "   {'Id': 72383448, 'Name': 'Поиск|Apple (Биддер)'},\n",
       "   {'Id': 72383458, 'Name': 'Поиск|Apple (Микро)'},\n",
       "   {'Name': 'Поиск|Xiaomi', 'Id': 72385070},\n",
       "   {'Name': 'Поиск|Huawei', 'Id': 72385076},\n",
       "   {'Name': 'РСЯ|Аудитории|Конкуренты', 'Id': 73352631},\n",
       "   {'Id': 73436195, 'Name': 'Поиск|Apple'},\n",
       "   {'Name': 'Поиск|Xiaomi', 'Id': 73436204},\n",
       "   {'Id': 75100664, 'Name': 'Ретаргетинг на поиске'},\n",
       "   {'Name': 'Динамика по сайту', 'Id': 75343228},\n",
       "   {'Name': 'Динамические объявления 16.06.22', 'Id': 75378216},\n",
       "   {'Id': 75379144, 'Name': 'Смарт-баннеры 16.06.22'},\n",
       "   {'Name': 'Актуальные остатки|Поиск', 'Id': 75860402},\n",
       "   {'Id': 76036486, 'Name': 'Поиск|Honor'},\n",
       "   {'Id': 76271726, 'Name': 'Test campaigns 3 (SmartCampaign)'},\n",
       "   {'Id': 76475566, 'Name': 'Test campaigns 4'}]}}"
      ]
     },
     "execution_count": 5,
     "metadata": {},
     "output_type": "execute_result"
    }
   ],
   "source": [
    "# https://yandex.ru/dev/direct/doc/ref-v5/campaigns/get.html\n",
    "# Список итоговых полей в таблице\n",
    "FieldNames = [\"Id\", \"Name\"]\n",
    "\n",
    "# Создание тела запроса\n",
    "params = {}\n",
    "params[\"SelectionCriteria\"] = {}\n",
    "params[\"FieldNames\"] = FieldNames\n",
    "\n",
    "service = 'campaigns'\n",
    "method = 'get'\n",
    "result = direct.requestAPI(service, method, params, login).json()\n",
    "result\n",
    "\n",
    "# Вывод df\n",
    "# result = result['result']['Campaigns']\n",
    "# try:\n",
    "#     df = result_to_df(result, FieldNames)\n",
    "#     df.head(8)\n",
    "# except:\n",
    "#     print(\"Данных нет\")"
   ]
  },
  {
   "cell_type": "code",
   "execution_count": null,
   "id": "77230e5d",
   "metadata": {},
   "outputs": [],
   "source": []
  },
  {
   "cell_type": "markdown",
   "id": "95c8485b",
   "metadata": {},
   "source": [
    "### add - Создание РК с типом \"TextCampaign\""
   ]
  },
  {
   "cell_type": "markdown",
   "id": "ffcc5cb7",
   "metadata": {},
   "source": [
    "**ВНИМАНИЕ!!!**\n",
    "Существуют отдельные (разные) структуры запроса по типам РК:\n",
    "* TextCampaign\n",
    "* SmartCampaign\n",
    "* DynamicTextCampaign\n",
    "* MobileAppCampaign\n",
    "* CpmBannerCampaign"
   ]
  },
  {
   "cell_type": "code",
   "execution_count": 6,
   "id": "6259d1e0",
   "metadata": {},
   "outputs": [
    {
     "data": {
      "text/plain": [
       "{'result': {'AddResults': [{'Id': 76475566}]}}"
      ]
     },
     "execution_count": 6,
     "metadata": {},
     "output_type": "execute_result"
    }
   ],
   "source": [
    "# https://yandex.ru/dev/direct/doc/ref-v5/campaigns/add.html#input__CampaignAddItem\n",
    "# https://yandex.ru/dev/direct/doc/ref-v5/campaigns/add-text-campaign.html#add-text-campaign__TextCampaignAddItem\n",
    "\n",
    "# Создание тела запроса\n",
    "# Параметры типа РК (текстовая РК)\n",
    "TypeParameters = {}\n",
    "TypeParameters['BiddingStrategy'] = {}\n",
    "TypeParameters['BiddingStrategy']['Search'] = {}\n",
    "# HIGHEST_POSITION - «Ручное управление ставками с оптимизацией»\n",
    "TypeParameters['BiddingStrategy']['Search']['BiddingStrategyType'] = 'HIGHEST_POSITION'\n",
    "# TypeParameters['BiddingStrategy']['Search']['WbMaximumClicks'] = {}\n",
    "# TypeParameters['BiddingStrategy']['Search']['WbMaximumClicks']['WeeklySpendLimit'] = 400000000 \n",
    "TypeParameters['BiddingStrategy']['Network'] = {}\n",
    "# MAXIMUM_COVERAGE Ручное управление ставками с оптимизацией», включено раздельное управление ставками на поиске и в сетях\n",
    "TypeParameters['BiddingStrategy']['Network']['BiddingStrategyType'] = 'MAXIMUM_COVERAGE'\n",
    "# TypeParameters['BiddingStrategy']['Network']['NetworkDefault'] = {}\n",
    "\n",
    "# Параметры РК\n",
    "Campaign = {}\n",
    "Campaign['Name'] = \"Test campaigns 4\"\n",
    "Campaign['StartDate'] = \"2024-01-01\"\n",
    "# Параметры типа РК (текстовая РК)\n",
    "Campaign['TextCampaign'] = TypeParameters\n",
    "\n",
    "params = {}\n",
    "params['Campaigns'] = [Campaign]\n",
    "\n",
    "service = 'campaigns'\n",
    "method = \"add\"\n",
    "result = direct.requestAPI(service, method, params, login).json()\n",
    "result"
   ]
  },
  {
   "cell_type": "code",
   "execution_count": null,
   "id": "e87f6c7d",
   "metadata": {},
   "outputs": [],
   "source": []
  },
  {
   "cell_type": "markdown",
   "id": "a500ce1e",
   "metadata": {},
   "source": [
    "### delete - Удаление РК"
   ]
  },
  {
   "cell_type": "code",
   "execution_count": 11,
   "id": "e7bbe9fc",
   "metadata": {},
   "outputs": [
    {
     "data": {
      "text/plain": [
       "{'result': {'DeleteResults': [{'Id': 76205878}]}}"
      ]
     },
     "execution_count": 11,
     "metadata": {},
     "output_type": "execute_result"
    }
   ],
   "source": [
    "# Удаление РК\n",
    "# https://yandex.ru/dev/direct/doc/ref-v5/campaigns/delete.html\n",
    "\n",
    "# Создание тела запроса\n",
    "params = {}\n",
    "params['SelectionCriteria'] = {}\n",
    "params['SelectionCriteria']['Ids'] = [76205878]\n",
    "\n",
    "service = 'campaigns'\n",
    "method = \"delete\"\n",
    "result = direct.requestAPI(service, method, params, login).json()\n",
    "result"
   ]
  },
  {
   "cell_type": "code",
   "execution_count": null,
   "id": "519c364a",
   "metadata": {},
   "outputs": [],
   "source": []
  },
  {
   "cell_type": "markdown",
   "id": "2a70379d",
   "metadata": {},
   "source": [
    "### get - Получить параметры РК (ОБЩИЕ + по конкретному типу РК)"
   ]
  },
  {
   "cell_type": "code",
   "execution_count": 40,
   "id": "d6edc7de",
   "metadata": {
    "scrolled": true
   },
   "outputs": [
    {
     "data": {
      "text/plain": [
       "{'result': {'Campaigns': [{'Type': 'TEXT_CAMPAIGN',\n",
       "    'Id': 76037266,\n",
       "    'TextCampaign': {'BiddingStrategy': {'Network': {'BiddingStrategyType': 'MAXIMUM_COVERAGE'},\n",
       "      'Search': {'BiddingStrategyType': 'HIGHEST_POSITION'}},\n",
       "     'RelevantKeywords': None,\n",
       "     'CounterIds': None,\n",
       "     'AttributionModel': 'LYDCCD',\n",
       "     'Settings': [{'Option': 'ADD_TO_FAVORITES', 'Value': 'NO'},\n",
       "      {'Option': 'REQUIRE_SERVICING', 'Value': 'NO'},\n",
       "      {'Option': 'SHARED_ACCOUNT_ENABLED', 'Value': 'YES'},\n",
       "      {'Value': 'YES', 'Option': 'DAILY_BUDGET_ALLOWED'},\n",
       "      {'Value': 'NO', 'Option': 'MAINTAIN_NETWORK_CPC'},\n",
       "      {'Value': 'NO', 'Option': 'ENABLE_SITE_MONITORING'},\n",
       "      {'Value': 'YES', 'Option': 'ADD_METRICA_TAG'},\n",
       "      {'Value': 'NO', 'Option': 'ADD_OPENSTAT_TAG'},\n",
       "      {'Value': 'YES', 'Option': 'ENABLE_EXTENDED_AD_TITLE'},\n",
       "      {'Value': 'YES', 'Option': 'ENABLE_COMPANY_INFO'},\n",
       "      {'Value': 'NO', 'Option': 'CAMPAIGN_EXACT_PHRASE_MATCHING_ENABLED'},\n",
       "      {'Value': 'NO', 'Option': 'EXCLUDE_PAUSED_COMPETING_ADS'},\n",
       "      {'Option': 'ENABLE_AREA_OF_INTEREST_TARGETING', 'Value': 'YES'}]},\n",
       "    'State': 'OFF',\n",
       "    'Name': 'Test campaigns',\n",
       "    'StatusPayment': 'ALLOWED',\n",
       "    'NegativeKeywords': {'Items': ['минус фраза !один', 'минус фраза два']},\n",
       "    'BlockedIps': None,\n",
       "    'StatusClarification': 'Draft',\n",
       "    'Status': 'DRAFT',\n",
       "    'StartDate': '2024-01-01'}]}}"
      ]
     },
     "execution_count": 40,
     "metadata": {},
     "output_type": "execute_result"
    }
   ],
   "source": [
    "# https://yandex.ru/dev/direct/doc/ref-v5/campaigns/get.html\n",
    "\n",
    "# id РК\n",
    "Campaigns_id = 76037266\n",
    "\n",
    "# Создание тела запроса\n",
    "params = {}\n",
    "params[\"SelectionCriteria\"] = {}\n",
    "params[\"SelectionCriteria\"]['Ids'] = [Campaigns_id]\n",
    "\n",
    "# Список итоговых полей в таблице\n",
    "FieldNames = [\"Id\", \"Name\", \"StartDate\", \"Type\", \"BlockedIps\", 'Status', 'State', 'StatusPayment', 'StatusClarification', 'NegativeKeywords']\n",
    "params[\"FieldNames\"] = FieldNames\n",
    "\n",
    "# Список итоговых полей в таблице - по КОНКРЕТНОМУ ТИПУ РК\n",
    "TextCampaignFieldNames = [ \"CounterIds\", \"RelevantKeywords\", \"Settings\", \"AttributionModel\", \"BiddingStrategy\" ]\n",
    "params[\"TextCampaignFieldNames\"] = TextCampaignFieldNames\n",
    "\n",
    "service = 'campaigns'\n",
    "method = \"get\"\n",
    "result = direct.requestAPI(service, method, params, login).json()\n",
    "result"
   ]
  },
  {
   "cell_type": "code",
   "execution_count": null,
   "id": "aac4e71e",
   "metadata": {},
   "outputs": [],
   "source": []
  },
  {
   "cell_type": "markdown",
   "id": "67621e8d",
   "metadata": {},
   "source": [
    "### get - получить МИНУС-ФРАЗЫ (из кампании)"
   ]
  },
  {
   "cell_type": "code",
   "execution_count": 53,
   "id": "acffcadb",
   "metadata": {
    "scrolled": true
   },
   "outputs": [
    {
     "data": {
      "text/plain": [
       "{'result': {'Campaigns': [{'Name': 'Test campaigns 4',\n",
       "    'Id': 76475566,\n",
       "    'NegativeKeywords': {'Items': ['восемь', 'пять шесть']}}]}}"
      ]
     },
     "execution_count": 53,
     "metadata": {},
     "output_type": "execute_result"
    }
   ],
   "source": [
    "# https://yandex.ru/dev/direct/doc/ref-v5/campaigns/get.html\n",
    "# Список итоговых полей в таблице\n",
    "FieldNames = [\"Id\", \"Name\", \"NegativeKeywords\"]\n",
    "\n",
    "# Создание тела запроса\n",
    "params = {}\n",
    "params[\"SelectionCriteria\"] = {}\n",
    "params[\"SelectionCriteria\"][\"Ids\"] = [76475566] \n",
    "params[\"FieldNames\"] = FieldNames\n",
    "\n",
    "service = 'campaigns'\n",
    "method = 'get'\n",
    "result = direct.requestAPI(service, method, params, login).json()\n",
    "result"
   ]
  },
  {
   "cell_type": "code",
   "execution_count": null,
   "id": "0fd6bcba",
   "metadata": {},
   "outputs": [],
   "source": []
  },
  {
   "cell_type": "markdown",
   "id": "e391fa6d",
   "metadata": {},
   "source": [
    "### update - Изменить параметры 1 РК (Меняю стратегию РК)"
   ]
  },
  {
   "cell_type": "code",
   "execution_count": 302,
   "id": "91df3c3f",
   "metadata": {
    "scrolled": true
   },
   "outputs": [
    {
     "data": {
      "text/plain": [
       "{'result': {'UpdateResults': [{'Id': 76037266}]}}"
      ]
     },
     "execution_count": 302,
     "metadata": {},
     "output_type": "execute_result"
    }
   ],
   "source": [
    "# https://yandex.ru/dev/direct/doc/dg/best-practice/modify.html\n",
    "# https://yandex.ru/dev/direct/doc/ref-v5/campaigns/update-text-campaign.html\n",
    "    \n",
    "# id РК\n",
    "Campaigns_id = 76037266\n",
    "\n",
    "# Параметры типа РК (текстовая РК)\n",
    "TypeParameters = {}\n",
    "TypeParameters['BiddingStrategy'] = {}\n",
    "TypeParameters['BiddingStrategy']['Search'] = {}\n",
    "TypeParameters['BiddingStrategy']['Search']['BiddingStrategyType'] = 'HIGHEST_POSITION'\n",
    "\n",
    "TypeParameters['BiddingStrategy']['Network'] = {}\n",
    "TypeParameters['BiddingStrategy']['Network']['BiddingStrategyType'] = 'MAXIMUM_COVERAGE'\n",
    "\n",
    "# Параметры РК\n",
    "Campaign = {}\n",
    "Campaign['Id'] = Campaigns_id\n",
    "Campaign['TextCampaign'] = TypeParameters\n",
    "\n",
    "params = {}\n",
    "params['Campaigns'] = [Campaign]\n",
    "\n",
    "service = 'campaigns'\n",
    "method = \"update\"\n",
    "result = direct.requestAPI(service, method, params, login).json()\n",
    "result"
   ]
  },
  {
   "cell_type": "code",
   "execution_count": 300,
   "id": "c6dc00a8",
   "metadata": {},
   "outputs": [],
   "source": []
  },
  {
   "cell_type": "markdown",
   "id": "e6a76b97",
   "metadata": {},
   "source": [
    "### update - изменить МИНУС-ФРАЗЫ (РК) "
   ]
  },
  {
   "cell_type": "code",
   "execution_count": 52,
   "id": "9b8f51c8",
   "metadata": {
    "scrolled": true
   },
   "outputs": [
    {
     "data": {
      "text/plain": [
       "{'result': {'UpdateResults': [{'Id': 76475566}]}}"
      ]
     },
     "execution_count": 52,
     "metadata": {},
     "output_type": "execute_result"
    }
   ],
   "source": [
    "# https://yandex.ru/dev/direct/doc/dg/best-practice/modify.html\n",
    "# https://yandex.ru/dev/direct/doc/ref-v5/campaigns/update-text-campaign.html\n",
    "    \n",
    "# id РК\n",
    "Campaigns_id = 76475566\n",
    "\n",
    "# Параметры РК\n",
    "Campaign = {}\n",
    "Campaign['Id'] = Campaigns_id\n",
    "Campaign['NegativeKeywords'] = {}\n",
    "Campaign['NegativeKeywords']['Items'] = [ 'пять шесть', 'восемь']\n",
    "\n",
    "params = {}\n",
    "params['Campaigns'] = [Campaign]\n",
    "\n",
    "\n",
    "service = 'campaigns'\n",
    "method = \"update\"\n",
    "result = direct.requestAPI(service, method, params, login).json()\n",
    "result"
   ]
  },
  {
   "cell_type": "code",
   "execution_count": null,
   "id": "eac5d0b8",
   "metadata": {},
   "outputs": [],
   "source": []
  },
  {
   "cell_type": "code",
   "execution_count": null,
   "id": "e31fb4bb",
   "metadata": {},
   "outputs": [],
   "source": []
  },
  {
   "cell_type": "markdown",
   "id": "49b393fa",
   "metadata": {},
   "source": [
    "# AdGroups - Группа объявлений"
   ]
  },
  {
   "cell_type": "markdown",
   "id": "8a66cdb8",
   "metadata": {},
   "source": [
    "### add - Создание группы объявлений"
   ]
  },
  {
   "cell_type": "code",
   "execution_count": 18,
   "id": "ad3eea01",
   "metadata": {},
   "outputs": [
    {
     "data": {
      "text/plain": [
       "{'result': {'AddResults': [{'Id': 4973667406}]}}"
      ]
     },
     "execution_count": 18,
     "metadata": {},
     "output_type": "execute_result"
    }
   ],
   "source": [
    "# https://yandex.ru/dev/direct/doc/ref-v5/adgroups/adgroups.html\n",
    "# https://yandex.ru/dev/direct/doc/ref-v5/adgroups/add.html\n",
    "\n",
    "# id РК\n",
    "Campaigns_id = 76475566\n",
    "\n",
    "# Массив идентификаторов регионов, для которых показы включены или выключены. Массив должен содержать хотя бы один элемент.\n",
    "# Идентификатор 0 — показывать во всех регионах.\n",
    "RegionIds = [0]\n",
    "\n",
    "# Параметры AdGroup (группы объявлений)\n",
    "AdGroup = {}\n",
    "AdGroup['Name'] = \"Тестовая группа объявлений - 01\"\n",
    "AdGroup['CampaignId'] = Campaigns_id\n",
    "AdGroup['RegionIds'] = RegionIds\n",
    "\n",
    "params = {}\n",
    "params['AdGroups'] = [AdGroup]\n",
    "\n",
    "service = 'adgroups'\n",
    "method = \"add\"\n",
    "result = direct.requestAPI(service, method, params, login).json()\n",
    "result"
   ]
  },
  {
   "cell_type": "code",
   "execution_count": null,
   "id": "de05503b",
   "metadata": {},
   "outputs": [],
   "source": []
  },
  {
   "cell_type": "markdown",
   "id": "8ee7a848",
   "metadata": {},
   "source": [
    "### get - Получить параметры группы объявлений"
   ]
  },
  {
   "cell_type": "code",
   "execution_count": 54,
   "id": "aa3b6ae4",
   "metadata": {},
   "outputs": [
    {
     "data": {
      "text/plain": [
       "{'result': {'AdGroups': [{'Id': 4973667406,\n",
       "    'Name': 'Тестовая группа объявлений - 01',\n",
       "    'NegativeKeywords': None,\n",
       "    'NegativeKeywordSharedSetIds': {'Items': [37694479]}}]}}"
      ]
     },
     "execution_count": 54,
     "metadata": {},
     "output_type": "execute_result"
    }
   ],
   "source": [
    "# https://yandex.ru/dev/direct/doc/ref-v5/adgroups/adgroups.html\n",
    "    # https://yandex.ru/dev/direct/doc/ref-v5/adgroups/get.html\n",
    "\n",
    "# Можно указать id-РК, тогда получим все группы\n",
    "\n",
    "# id РК\n",
    "Campaign_id = 76475566\n",
    "# id AdGroup\n",
    "# AdGroup_id = 4962656425\n",
    "\n",
    "# Список итоговых полей в таблице\n",
    "FieldNames = [\"Id\", \"Name\", \"NegativeKeywords\", \"NegativeKeywordSharedSetIds\"]\n",
    "\n",
    "# Создание тела запроса\n",
    "params = {}\n",
    "params[\"SelectionCriteria\"] = {}\n",
    "params[\"SelectionCriteria\"]['CampaignIds'] = [Campaign_id]\n",
    "# params[\"SelectionCriteria\"]['Ids'] = [AdGroup_id]\n",
    "params[\"FieldNames\"] = FieldNames\n",
    "\n",
    "service = 'adgroups'\n",
    "method = \"get\"\n",
    "result = direct.requestAPI(service, method, params, login).json()\n",
    "result"
   ]
  },
  {
   "cell_type": "code",
   "execution_count": null,
   "id": "4ff97e30",
   "metadata": {},
   "outputs": [],
   "source": []
  },
  {
   "cell_type": "markdown",
   "id": "bb7e92bd",
   "metadata": {},
   "source": [
    "### delete - Удалить группу объявлений"
   ]
  },
  {
   "cell_type": "code",
   "execution_count": 51,
   "id": "c9bf0585",
   "metadata": {},
   "outputs": [
    {
     "data": {
      "text/plain": [
       "{'result': {'DeleteResults': [{'Id': 4966393372}]}}"
      ]
     },
     "execution_count": 51,
     "metadata": {},
     "output_type": "execute_result"
    }
   ],
   "source": [
    "# https://yandex.ru/dev/direct/doc/ref-v5/adgroups/adgroups.html\n",
    "# https://yandex.ru/dev/direct/doc/ref-v5/adgroups/delete.html\n",
    "\n",
    "# Создание тела запроса\n",
    "params = {}\n",
    "params[\"SelectionCriteria\"] = {}\n",
    "params[\"SelectionCriteria\"]['Ids'] = [4966393372]\n",
    "\n",
    "service = 'adgroups'\n",
    "method = \"delete\"\n",
    "result = direct.requestAPI(service, method, params, login).json()\n",
    "result"
   ]
  },
  {
   "cell_type": "code",
   "execution_count": null,
   "id": "df790596",
   "metadata": {},
   "outputs": [],
   "source": []
  },
  {
   "cell_type": "markdown",
   "id": "21ab6107",
   "metadata": {},
   "source": [
    "### update - Изменяет параметры групп объявлений - подключаем набор МИНУС-ФРАЗ"
   ]
  },
  {
   "cell_type": "code",
   "execution_count": 21,
   "id": "19607bf0",
   "metadata": {},
   "outputs": [
    {
     "data": {
      "text/plain": [
       "{'result': {'UpdateResults': [{'Id': 4973667406}]}}"
      ]
     },
     "execution_count": 21,
     "metadata": {},
     "output_type": "execute_result"
    }
   ],
   "source": [
    "# https://yandex.ru/dev/direct/doc/ref-v5/adgroups/adgroups.html\n",
    "# https://yandex.ru/dev/direct/doc/ref-v5/adgroups/update.html\n",
    "\n",
    "# id AdGroup\n",
    "AdGroup_id = 4973667406\n",
    "NegativeKeywordSharedSet_Id = 37694479\n",
    "\n",
    "\n",
    "# Параметры AdGroup (группы объявлений)\n",
    "AdGroup = {}\n",
    "AdGroup['Id'] = AdGroup_id\n",
    "AdGroup['NegativeKeywordSharedSetIds'] = {}\n",
    "AdGroup['NegativeKeywordSharedSetIds'][\"Items\"] = [NegativeKeywordSharedSet_Id]\n",
    "\n",
    "params = {}\n",
    "params['AdGroups'] = [AdGroup]\n",
    "\n",
    "service = 'adgroups'\n",
    "method = \"update\"\n",
    "result = direct.requestAPI(service, method, params, login).json()\n",
    "result"
   ]
  },
  {
   "cell_type": "code",
   "execution_count": null,
   "id": "6a956a88",
   "metadata": {},
   "outputs": [],
   "source": []
  },
  {
   "cell_type": "markdown",
   "id": "11a02cbd",
   "metadata": {},
   "source": [
    "# Ads - объявления"
   ]
  },
  {
   "cell_type": "markdown",
   "id": "c3f8b588",
   "metadata": {},
   "source": [
    "### add - Создание объявления"
   ]
  },
  {
   "cell_type": "code",
   "execution_count": 24,
   "id": "5f2c9bc3",
   "metadata": {},
   "outputs": [
    {
     "data": {
      "text/plain": [
       "{'result': {'AddResults': [{'Id': 12443945420}]}}"
      ]
     },
     "execution_count": 24,
     "metadata": {},
     "output_type": "execute_result"
    }
   ],
   "source": [
    "# https://yandex.ru/dev/direct/doc/ref-v5/ads/ads.html\n",
    "# https://yandex.ru/dev/direct/doc/ref-v5/ads/add.html\n",
    "\n",
    "# id AdGroup\n",
    "AdGroup_id = 4973667406\n",
    "\n",
    "\n",
    "# Параметры Ad (объявления)\n",
    "Ad = {}\n",
    "Ad['AdGroupId'] = AdGroup_id\n",
    "Ad['TextAd'] = {}\n",
    "Ad['TextAd']['Title'] = \"Заголовок тестового объявления\"\n",
    "Ad['TextAd']['Text'] = \"Основной текст тестового объявления\"\n",
    "Ad['TextAd']['Mobile'] = \"NO\"\n",
    "Ad['TextAd']['Href'] = \"https://test.ru\"\n",
    "\n",
    "params = {}\n",
    "params['Ads'] = [Ad]\n",
    "\n",
    "service = 'ads'\n",
    "method = \"add\"\n",
    "result = direct.requestAPI(service, method, params, login).json()\n",
    "result"
   ]
  },
  {
   "cell_type": "code",
   "execution_count": null,
   "id": "287aba4a",
   "metadata": {},
   "outputs": [],
   "source": []
  },
  {
   "cell_type": "markdown",
   "id": "e9d3d8c5",
   "metadata": {},
   "source": [
    "### get - Получить параметры объявления"
   ]
  },
  {
   "cell_type": "code",
   "execution_count": 26,
   "id": "032fc27a",
   "metadata": {},
   "outputs": [
    {
     "data": {
      "text/plain": [
       "{'result': {'Ads': [{'Id': 12443945420,\n",
       "    'CampaignId': 76475566,\n",
       "    'AdGroupId': 4973667406,\n",
       "    'AdCategories': None,\n",
       "    'TextAd': {'Text': 'Основной текст тестового объявления',\n",
       "     'Title': 'Заголовок тестового объявления',\n",
       "     'Href': 'https://test.ru',\n",
       "     'Mobile': 'NO'}}]}}"
      ]
     },
     "execution_count": 26,
     "metadata": {},
     "output_type": "execute_result"
    }
   ],
   "source": [
    "# https://yandex.ru/dev/direct/doc/ref-v5/ads/ads.html\n",
    "# https://yandex.ru/dev/direct/doc/ref-v5/adgroups/get.html\n",
    "\n",
    "# Можно указать id-РК, тогда получим ВСЕ объявления\n",
    "# Или указать id группы или id - конкретного объявления\n",
    "\n",
    "# id РК\n",
    "Campaign_id = 76475566\n",
    "# id AdGroup\n",
    "AdGroup_id = 4962656425\n",
    "\n",
    "# Список итоговых полей в таблице\n",
    "FieldNames = [\"Id\", \"AdCategories\", 'CampaignId', 'AdGroupId']\n",
    "\n",
    "# Создание тела запроса\n",
    "params = {}\n",
    "params[\"SelectionCriteria\"] = {}\n",
    "params[\"SelectionCriteria\"]['CampaignIds'] = [Campaign_id]\n",
    "\n",
    "# Для получения параметров ВЕРХНЕГО уровня\n",
    "params[\"FieldNames\"] = FieldNames\n",
    "\n",
    "# Для получения КОНКРЕТНЫХ параметров ТЕКСТОВО_ГРАФИЧЕСКОГО объявления\n",
    "params[\"TextAdFieldNames\"] = ['Title', 'Text', 'Mobile', 'Href']\n",
    "\n",
    "service = 'ads'\n",
    "method = \"get\"\n",
    "result = direct.requestAPI(service, method, params, login).json()\n",
    "result"
   ]
  },
  {
   "cell_type": "code",
   "execution_count": null,
   "id": "8eb7f9bb",
   "metadata": {},
   "outputs": [],
   "source": []
  },
  {
   "cell_type": "code",
   "execution_count": null,
   "id": "a4c80c25",
   "metadata": {},
   "outputs": [],
   "source": []
  },
  {
   "cell_type": "markdown",
   "id": "64582b41",
   "metadata": {},
   "source": [
    "# Keywords - выполнение операций с ключевыми фразами и автотаргетингами"
   ]
  },
  {
   "cell_type": "markdown",
   "id": "5692079a",
   "metadata": {},
   "source": [
    "### add - Создание ключевые фразы"
   ]
  },
  {
   "cell_type": "code",
   "execution_count": 56,
   "id": "b76db1c7",
   "metadata": {},
   "outputs": [
    {
     "data": {
      "text/plain": [
       "{'result': {'AddResults': [{'Id': 39998321635}]}}"
      ]
     },
     "execution_count": 56,
     "metadata": {},
     "output_type": "execute_result"
    }
   ],
   "source": [
    "# https://yandex.ru/dev/direct/doc/ref-v5/keywords/keywords.html\n",
    "# https://yandex.ru/dev/direct/doc/ref-v5/keywords/add.html\n",
    "\n",
    "# Ключевые фразы прикрепляет к группе объявлений\n",
    "\n",
    "# Можно указывать ставку (Если в кампании настроена ручная стратегия, то можно указать параметр Bid)\n",
    "\n",
    "# id AdGroup\n",
    "AdGroup_id = 4973667406\n",
    "\n",
    "Keyword_1 = {}\n",
    "Keyword_1['Keyword'] = \"Вторая ключевая фраза\"\n",
    "Keyword_1['AdGroupId'] = AdGroup_id\n",
    "# Ставка на поиске (не обязательно)\n",
    "Keyword_1['Bid'] = 1000000\n",
    "# Ставка в сетях (не обязательно)\n",
    "Keyword_1['ContextBid'] = 2000000\n",
    "\n",
    "params = {}\n",
    "params['Keywords'] = [Keyword_1]\n",
    "\n",
    "service = 'keywords'\n",
    "method = \"add\"\n",
    "result = direct.requestAPI(service, method, params, login).json()\n",
    "result"
   ]
  },
  {
   "cell_type": "code",
   "execution_count": null,
   "id": "79e802e0",
   "metadata": {},
   "outputs": [],
   "source": []
  },
  {
   "cell_type": "markdown",
   "id": "451d86c1",
   "metadata": {},
   "source": [
    "### get - Возвращает параметры ключевых фраз"
   ]
  },
  {
   "cell_type": "code",
   "execution_count": 54,
   "id": "f005c836",
   "metadata": {},
   "outputs": [
    {
     "data": {
      "text/plain": [
       "{'result': {}}"
      ]
     },
     "execution_count": 54,
     "metadata": {},
     "output_type": "execute_result"
    }
   ],
   "source": [
    "# https://yandex.ru/dev/direct/doc/ref-v5/keywords/keywords.html\n",
    "# https://yandex.ru/dev/direct/doc/ref-v5/keywords/get.html\n",
    "\n",
    "# Можно указать id: РК, группы, объявления (?), фраз\n",
    "\n",
    "# id РК\n",
    "Campaign_id = 76475566\n",
    "\n",
    "# Список итоговых полей в таблице\n",
    "FieldNames = ['Id', 'CampaignId', 'AdGroupId', \"Keyword\", 'Bid']\n",
    "\n",
    "# Создание тела запроса\n",
    "params = {}\n",
    "params[\"SelectionCriteria\"] = {}\n",
    "params[\"SelectionCriteria\"]['CampaignIds'] = [Campaign_id]\n",
    "\n",
    "# Для получения параметров ВЕРХНЕГО уровня\n",
    "params[\"FieldNames\"] = FieldNames\n",
    "\n",
    "# # Для получения КОНКРЕТНЫХ параметров ТЕКСТОВО_ГРАФИЧЕСКОГО объявления\n",
    "# params[\"TextAdFieldNames\"] = ['Title', 'Text', 'Mobile', 'Href']\n",
    "\n",
    "service = 'keywords'\n",
    "method = \"get\"\n",
    "\n",
    "result = direct.requestAPI(service, method, params, login).json()\n",
    "result"
   ]
  },
  {
   "cell_type": "code",
   "execution_count": null,
   "id": "23a79b60",
   "metadata": {},
   "outputs": [],
   "source": []
  },
  {
   "cell_type": "markdown",
   "id": "14f8eaa0",
   "metadata": {},
   "source": [
    "### keywords-update - изменение ключевые фразы"
   ]
  },
  {
   "cell_type": "markdown",
   "id": "1b441d7f",
   "metadata": {},
   "source": [
    "Синтаксис ТОЧНО такой же - как add, только вместо AdGroupId - Id (фразы)"
   ]
  },
  {
   "cell_type": "code",
   "execution_count": 31,
   "id": "5c852fb7",
   "metadata": {},
   "outputs": [
    {
     "data": {
      "text/plain": [
       "{'result': {'UpdateResults': [{'Errors': [{'Code': 8800,\n",
       "      'Message': 'Объект не найден',\n",
       "      'Details': 'Ключевое слово не найдено'}]}]}}"
      ]
     },
     "execution_count": 31,
     "metadata": {},
     "output_type": "execute_result"
    }
   ],
   "source": [
    "# https://yandex.ru/dev/direct/doc/ref-v5/keywords/keywords.html\n",
    "# https://yandex.ru/dev/direct/doc/ref-v5/keywords/update.html\n",
    "\n",
    "# id AdGroup\n",
    "Id_1 = 40046155627\n",
    "\n",
    "Keyword_1 = {}\n",
    "Keyword_1['Id'] = Id_1\n",
    "\n",
    "Keyword_1['Keyword'] = \"Измененная ключевая фраза\"\n",
    "\n",
    "params = {}\n",
    "params['Keywords'] = [Keyword_1]\n",
    "\n",
    "service = 'keywords'\n",
    "method = \"update\"\n",
    "result = direct.requestAPI(service, method, params, login).json()\n",
    "result"
   ]
  },
  {
   "cell_type": "code",
   "execution_count": null,
   "id": "1b233d41",
   "metadata": {},
   "outputs": [],
   "source": []
  },
  {
   "cell_type": "code",
   "execution_count": 52,
   "id": "2b841e2d",
   "metadata": {},
   "outputs": [
    {
     "data": {
      "text/plain": [
       "[40184515644, 40184515645]"
      ]
     },
     "execution_count": 52,
     "metadata": {},
     "output_type": "execute_result"
    }
   ],
   "source": [
    "# Вытащить список id-Ключевых фраз (для удаления)\n",
    "my_list_of_dic = result['result']['Keywords']\n",
    "my_list = []\n",
    "for el in my_list_of_dic:\n",
    "    my_list.append(el['Id'])\n",
    "my_list    "
   ]
  },
  {
   "cell_type": "markdown",
   "id": "93e528ba",
   "metadata": {},
   "source": [
    "### keywords-delete - УДАЛЕНИЕ ключевой фразы"
   ]
  },
  {
   "cell_type": "code",
   "execution_count": 53,
   "id": "b64cacf0",
   "metadata": {},
   "outputs": [
    {
     "data": {
      "text/plain": [
       "{'result': {'DeleteResults': [{'Id': 40184515644}, {'Id': 40184515645}]}}"
      ]
     },
     "execution_count": 53,
     "metadata": {},
     "output_type": "execute_result"
    }
   ],
   "source": [
    "# https://yandex.ru/dev/direct/doc/ref-v5/keywords/keywords.html\n",
    "# https://yandex.ru/dev/direct/doc/ref-v5/keywords/delete.html\n",
    "\n",
    "Ids = my_list\n",
    "\n",
    "params = {}\n",
    "params['SelectionCriteria'] = {}\n",
    "params['SelectionCriteria']['Ids'] = Ids\n",
    "\n",
    "\n",
    "service = 'keywords'\n",
    "method = \"delete\"\n",
    "result = direct.requestAPI(service, method, params, login).json()\n",
    "result"
   ]
  },
  {
   "cell_type": "code",
   "execution_count": null,
   "id": "14c83c75",
   "metadata": {},
   "outputs": [],
   "source": []
  },
  {
   "cell_type": "code",
   "execution_count": null,
   "id": "053260e6",
   "metadata": {},
   "outputs": [],
   "source": []
  },
  {
   "cell_type": "markdown",
   "id": "4718bb88",
   "metadata": {},
   "source": [
    "# KeywordsResearch - предварительная обработка ключевых слов"
   ]
  },
  {
   "cell_type": "markdown",
   "id": "7097f2d5",
   "metadata": {},
   "source": [
    "### deduplicate - предварительная обработка массива ключевых фраз"
   ]
  },
  {
   "cell_type": "markdown",
   "id": "36113b31",
   "metadata": {},
   "source": [
    "Метод выполняет следующие операции с ключевыми фразами:\n",
    "* **Склейка дублей**\n",
    "\n",
    "Объединение нескольких фраз, отличающихся только минус-словами, формой слов, наличием стоп-слов. Объединенная фраза будет содержать минус-слова всех фраз. Например, фразы заказ окон -жалюзи и окна на заказ -дешево будут заменены фразой окна на заказ -дешево -жалюзи. В частности, при склейке удаляются дубликаты фраз.\n",
    "\n",
    "* **Кросс-минусовка**\n",
    "\n",
    "Добавление минус-слова в случае, когда фраза содержится в другой фразе, отличающейся на одно слово. Например, в паре фраз шуба и шуба норковая к первой фразе будет добавлено минус-слово и получится фраза шуба -норковая. В результате поисковому запросу норковая шуба будет соответствовать только одна из фраз, а не обе.\n",
    "\n",
    "Метод принимает на вход массив, который может содержать:\n",
    "\n",
    "* новые ключевые фразы без идентификатора;\n",
    "* существующие ключевые фразы, имеющие идентификатор в Директе или внешней базе данных.\n",
    "\n",
    "В результате склейки дублей и кросс-минусовки метод возвращает инструкции, какие фразы нужно добавить, изменить или удалить. Формат ответа максимально приближен к формату запроса для методов add, update и delete сервиса Keywords."
   ]
  },
  {
   "cell_type": "code",
   "execution_count": 58,
   "id": "63b67098",
   "metadata": {},
   "outputs": [
    {
     "data": {
      "text/plain": [
       "{'result': {'Add': [{'Keyword': 'окна на заказ -дешево -жалюзи'}]}}"
      ]
     },
     "execution_count": 58,
     "metadata": {},
     "output_type": "execute_result"
    }
   ],
   "source": [
    "# https://yandex.ru/dev/direct/doc/ref-v5/keywordsresearch/keywordsresearch.html\n",
    "# https://yandex.ru/dev/direct/doc/ref-v5/keywordsresearch/deduplicate.html#deduplicate\n",
    "\n",
    "# Перечень ключевых фраз\n",
    "Keyword_1 = {}\n",
    "Keyword_1['Keyword'] = \"заказ окон -жалюзи\"\n",
    "Keyword_2 = {}\n",
    "Keyword_2['Keyword'] = \"окна на заказ -дешево\"\n",
    "\n",
    "# Создание тела запроса\n",
    "params = {}\n",
    "params[\"Keywords\"] = [Keyword_1, Keyword_2]\n",
    "# MERGE_DUPLICATES (склейка дублей) | ELIMINATE_OVERLAPPING (кросс-минусовка)- Если параметр не задан, будут выполнены обе операции \n",
    "params[\"Operation\"] = [\"MERGE_DUPLICATES\"]\n",
    "\n",
    "service = 'keywordsresearch'\n",
    "method = \"deduplicate\"\n",
    "result = direct.requestAPI(service, method, params, login).json()\n",
    "result"
   ]
  },
  {
   "cell_type": "code",
   "execution_count": null,
   "id": "5f9a23d3",
   "metadata": {},
   "outputs": [],
   "source": []
  },
  {
   "cell_type": "markdown",
   "id": "753d7725",
   "metadata": {},
   "source": [
    "### hasSearchVolume - Для заданных ключевых фраз и регионов формирует предварительный прогноз НАЛИЧИЯ показов по этим фразам в разбивке по типам устройств. Используется при подборе ключевых фраз"
   ]
  },
  {
   "cell_type": "markdown",
   "id": "539a2993",
   "metadata": {},
   "source": [
    "**Ограничения**\n",
    "\n",
    "В течение 60-секундного интервала можно отправить не более 20 запросов для одного рекламодателя."
   ]
  },
  {
   "cell_type": "code",
   "execution_count": 16,
   "id": "ac7c5e05",
   "metadata": {},
   "outputs": [
    {
     "data": {
      "text/plain": [
       "{'result': {'HasSearchVolumeResults': [{'Keyword': 'строительство деревянных домов',\n",
       "    'RegionIds': [0],\n",
       "    'AllDevices': 'YES',\n",
       "    'MobilePhones': 'YES',\n",
       "    'Tablets': 'YES',\n",
       "    'Desktops': 'YES'},\n",
       "   {'Keyword': 'продажа билетов на Луну',\n",
       "    'RegionIds': [0],\n",
       "    'AllDevices': 'NO',\n",
       "    'MobilePhones': 'NO',\n",
       "    'Tablets': 'NO',\n",
       "    'Desktops': 'NO'}]}}"
      ]
     },
     "execution_count": 16,
     "metadata": {},
     "output_type": "execute_result"
    }
   ],
   "source": [
    "# https://yandex.ru/dev/direct/doc/ref-v5/keywordsresearch/keywordsresearch.html\n",
    "# https://yandex.ru/dev/direct/doc/ref-v5/keywordsresearch/hasSearchVolume.html\n",
    "\n",
    "# Перечень ключевых фраз\n",
    "Keyword_1 = \"строительство деревянных домов\"\n",
    "Keyword_2 = \"продажа билетов на Луну\"\n",
    "\n",
    "# Создание тела запроса\n",
    "params = {}\n",
    "params['SelectionCriteria'] = {}\n",
    "params['SelectionCriteria'][\"Keywords\"] = [Keyword_1, Keyword_2]\n",
    "# Идентификаторы регионов, для которых показы включены или выключены.\n",
    "# Идентификатор 0 — показывать во всех регионах.\n",
    "params['SelectionCriteria'][\"RegionIds\"] = [0]\n",
    "\n",
    "# Список выводимых поей\n",
    "params[\"FieldNames\"] = [\"Keyword\", \"RegionIds\", \"AllDevices\", \"MobilePhones\", \"Tablets\", \"Desktops\"]\n",
    "\n",
    "service = 'keywordsresearch'\n",
    "method = \"hasSearchVolume\"\n",
    "result = direct.requestAPI(service, method, params, login).json()\n",
    "result"
   ]
  },
  {
   "cell_type": "code",
   "execution_count": null,
   "id": "0867bcce",
   "metadata": {},
   "outputs": [],
   "source": []
  },
  {
   "cell_type": "code",
   "execution_count": null,
   "id": "01fe409a",
   "metadata": {},
   "outputs": [],
   "source": []
  },
  {
   "cell_type": "markdown",
   "id": "583f4c1a",
   "metadata": {},
   "source": [
    "# NegativeKeywordSharedSets - операции с наборами минус-фраз"
   ]
  },
  {
   "cell_type": "markdown",
   "id": "2b923c3f",
   "metadata": {},
   "source": [
    "https://yandex.ru/dev/direct/doc/dg/objects/negative-keywords.html\n",
    "\n",
    "Минус-фразы можно настроить несколькими способами. Все способы можно использовать одновременно.\n",
    "\n",
    "* Перечислить минус-фразы на уровне группы объявлений в параметре NegativeKeywords и на уровне кампании в параметре NegativeKeywords.\n",
    "* Сформировать наборы минус-фраз с помощью сервиса NegativeKeywordSharedSets. Подключить наборы минус-фраз на уровне группы объявлений, указав идентификаторы наборов в параметре NegativeKeywordSharedSetIds.\n",
    "* Указать отдельные минус-слова (то есть минус-фразы из одного слова) непосредственно в ключевой фразе в параметре Keyword.\n",
    "\n",
    "Перенос минус-слов на уровень группы и кампании упрощает настройку и снижает риск превысить ограничение на длину ключевой фразы (4096 символов).\n",
    "\n",
    "Если минус-фраза, заданная на уровне группы или кампании, полностью входит в состав ключевой фразы, то к данной ключевой фразе минус-фраза не применяется."
   ]
  },
  {
   "cell_type": "markdown",
   "id": "00968081",
   "metadata": {},
   "source": [
    "### add - Создает наборы минус-фраз"
   ]
  },
  {
   "cell_type": "code",
   "execution_count": 330,
   "id": "2aa7bb56",
   "metadata": {},
   "outputs": [
    {
     "data": {
      "text/plain": [
       "{'result': {'AddResults': [{'Id': 37694479}]}}"
      ]
     },
     "execution_count": 330,
     "metadata": {},
     "output_type": "execute_result"
    }
   ],
   "source": [
    "# https://yandex.ru/dev/direct/doc/ref-v5/negativekeywordsharedsets/negativekeywordsharedsets.html\n",
    "# https://yandex.ru/dev/direct/doc/ref-v5/negativekeywordsharedsets/add.html\n",
    "\n",
    "# Ограничения:\n",
    "# Одному рекламодателю может принадлежать не более 30 наборов минус-фраз\n",
    "# Не более 30 наборов минус-фраз в одном вызове метода\n",
    "\n",
    "NegativeKeywordSharedSet_1 = {}\n",
    "NegativeKeywordSharedSet_1['Name'] = \"Первый набор МИНУС-ФРАЗ\"\n",
    "NegativeKeywordSharedSet_1['NegativeKeywords'] = ['первая минус', 'вторая минус', 'третья минус']\n",
    "\n",
    "params = {}\n",
    "params['NegativeKeywordSharedSets'] = [NegativeKeywordSharedSet_1]\n",
    "\n",
    "service = 'negativekeywordsharedsets'\n",
    "method = \"add\"\n",
    "result = direct.requestAPI(service, method, params, login).json()\n",
    "result"
   ]
  },
  {
   "cell_type": "code",
   "execution_count": null,
   "id": "d9575f68",
   "metadata": {},
   "outputs": [],
   "source": []
  },
  {
   "cell_type": "markdown",
   "id": "f0bcb575",
   "metadata": {},
   "source": [
    "### get - Возвращает наборы минус-фраз"
   ]
  },
  {
   "cell_type": "code",
   "execution_count": 29,
   "id": "15f1cb32",
   "metadata": {},
   "outputs": [
    {
     "data": {
      "text/plain": [
       "{'result': {'NegativeKeywordSharedSets': [{'Id': 37694479,\n",
       "    'Name': 'Первый набор МИНУС-ФРАЗ',\n",
       "    'NegativeKeywords': ['вторая минус', 'первая минус', 'третья минус']}]}}"
      ]
     },
     "execution_count": 29,
     "metadata": {},
     "output_type": "execute_result"
    }
   ],
   "source": [
    "# https://yandex.ru/dev/direct/doc/ref-v5/negativekeywordsharedsets/negativekeywordsharedsets.html\n",
    "# https://yandex.ru/dev/direct/doc/ref-v5/negativekeywordsharedsets/get.html\n",
    "\n",
    "\n",
    "# Создание тела запроса\n",
    "params = {}\n",
    "params[\"SelectionCriteria\"] = {}\n",
    "params[\"SelectionCriteria\"]['Ids'] = [37694479]\n",
    "\n",
    "# Для получения параметров ВЕРХНЕГО [уровня\n",
    "params[\"FieldNames\"] = [ \"Id\" , \"Name\" , \"NegativeKeywords\"]\n",
    "\n",
    "\n",
    "service = 'negativekeywordsharedsets'\n",
    "method = \"get\"\n",
    "result = direct.requestAPI(service, method, params, login).json()\n",
    "result"
   ]
  },
  {
   "cell_type": "code",
   "execution_count": null,
   "id": "e9520bdd",
   "metadata": {},
   "outputs": [],
   "source": []
  },
  {
   "cell_type": "code",
   "execution_count": null,
   "id": "dfd458b2",
   "metadata": {},
   "outputs": [],
   "source": []
  },
  {
   "cell_type": "markdown",
   "id": "59f2155e",
   "metadata": {},
   "source": [
    "# KeywordBids - управление ставками"
   ]
  },
  {
   "cell_type": "markdown",
   "id": "c5246b8f",
   "metadata": {},
   "source": [
    "### get - Возвращает ставки и приоритеты для ключевых фраз и автотаргетингов"
   ]
  },
  {
   "cell_type": "markdown",
   "id": "24561b70",
   "metadata": {},
   "source": [
    "Возвращает ставки и приоритеты для ключевых фраз и автотаргетингов, отвечающих заданным критериям, а также данные, полезные при подборе ставок: данные аукциона по позициям показа на поиске и ставки для охвата различных долей аудитории в сетях."
   ]
  },
  {
   "cell_type": "code",
   "execution_count": 60,
   "id": "222f520a",
   "metadata": {},
   "outputs": [
    {
     "data": {
      "text/plain": [
       "{'result': {'KeywordBids': [{'Search': {'Bid': 33000000,\n",
       "     'AuctionBids': {'AuctionBidItems': [{'TrafficVolume': 139,\n",
       "        'Bid': 2601700000,\n",
       "        'Price': 428700000},\n",
       "       {'TrafficVolume': 120, 'Bid': 1610600000, 'Price': 188700000},\n",
       "       {'TrafficVolume': 119, 'Bid': 1595100000, 'Price': 176700000},\n",
       "       {'TrafficVolume': 118, 'Bid': 1579600000, 'Price': 164700000},\n",
       "       {'TrafficVolume': 117, 'Bid': 1533200000, 'Price': 152600000},\n",
       "       {'TrafficVolume': 116, 'Bid': 302300000, 'Price': 140700000},\n",
       "       {'TrafficVolume': 115, 'Bid': 298500000, 'Price': 139300000},\n",
       "       {'TrafficVolume': 114, 'Bid': 289700000, 'Price': 137900000},\n",
       "       {'TrafficVolume': 113, 'Bid': 286900000, 'Price': 136500000},\n",
       "       {'TrafficVolume': 112, 'Bid': 284100000, 'Price': 135200000},\n",
       "       {'TrafficVolume': 111, 'Bid': 281300000, 'Price': 133900000},\n",
       "       {'TrafficVolume': 110, 'Bid': 277100000, 'Price': 132500000},\n",
       "       {'TrafficVolume': 109, 'Bid': 276100000, 'Price': 131200000},\n",
       "       {'TrafficVolume': 108, 'Bid': 275000000, 'Price': 129800000},\n",
       "       {'TrafficVolume': 107, 'Bid': 274000000, 'Price': 128500000},\n",
       "       {'TrafficVolume': 106, 'Bid': 272900000, 'Price': 127100000},\n",
       "       {'TrafficVolume': 105, 'Bid': 271900000, 'Price': 125700000},\n",
       "       {'TrafficVolume': 104, 'Bid': 270800000, 'Price': 124300000},\n",
       "       {'TrafficVolume': 103, 'Bid': 269800000, 'Price': 122900000},\n",
       "       {'TrafficVolume': 102, 'Bid': 268700000, 'Price': 121500000},\n",
       "       {'TrafficVolume': 101, 'Bid': 267700000, 'Price': 120000000},\n",
       "       {'TrafficVolume': 100, 'Bid': 266600000, 'Price': 118500000},\n",
       "       {'TrafficVolume': 99, 'Bid': 265600000, 'Price': 117000000},\n",
       "       {'TrafficVolume': 98, 'Bid': 264500000, 'Price': 115500000},\n",
       "       {'TrafficVolume': 97, 'Bid': 259600000, 'Price': 114000000},\n",
       "       {'TrafficVolume': 96, 'Bid': 254600000, 'Price': 112500000},\n",
       "       {'TrafficVolume': 95, 'Bid': 252400000, 'Price': 111000000},\n",
       "       {'TrafficVolume': 94, 'Bid': 250200000, 'Price': 109500000},\n",
       "       {'TrafficVolume': 93, 'Bid': 247900000, 'Price': 107900000},\n",
       "       {'TrafficVolume': 92, 'Bid': 245700000, 'Price': 106400000},\n",
       "       {'TrafficVolume': 91, 'Bid': 243500000, 'Price': 104900000},\n",
       "       {'TrafficVolume': 90, 'Bid': 241200000, 'Price': 103300000},\n",
       "       {'TrafficVolume': 89, 'Bid': 241100000, 'Price': 101800000},\n",
       "       {'TrafficVolume': 88, 'Bid': 240900000, 'Price': 100200000},\n",
       "       {'TrafficVolume': 87, 'Bid': 240800000, 'Price': 98600000},\n",
       "       {'TrafficVolume': 86, 'Bid': 240600000, 'Price': 96900000},\n",
       "       {'TrafficVolume': 85, 'Bid': 240400000, 'Price': 95300000},\n",
       "       {'TrafficVolume': 80, 'Bid': 239600000, 'Price': 86200000},\n",
       "       {'TrafficVolume': 75, 'Bid': 227800000, 'Price': 76200000},\n",
       "       {'TrafficVolume': 70, 'Bid': 227000000, 'Price': 65400000},\n",
       "       {'TrafficVolume': 65, 'Bid': 67800000, 'Price': 53700000},\n",
       "       {'TrafficVolume': 15, 'Bid': 53700000, 'Price': 36500000},\n",
       "       {'TrafficVolume': 10, 'Bid': 50900000, 'Price': 28800000},\n",
       "       {'TrafficVolume': 5, 'Bid': 8200000, 'Price': 8200000}]}},\n",
       "    'Network': {'Bid': 99000000, 'Coverage': {'CoverageItems': []}},\n",
       "    'CampaignId': 76475566,\n",
       "    'AdGroupId': 4973667406,\n",
       "    'KeywordId': 39997051745},\n",
       "   {'Search': {'Bid': 33000000,\n",
       "     'AuctionBids': {'AuctionBidItems': [{'TrafficVolume': 139,\n",
       "        'Bid': 2656900000,\n",
       "        'Price': 511900000},\n",
       "       {'TrafficVolume': 120, 'Bid': 2133400000, 'Price': 225900000},\n",
       "       {'TrafficVolume': 119, 'Bid': 2125300000, 'Price': 209900000},\n",
       "       {'TrafficVolume': 118, 'Bid': 2053100000, 'Price': 193700000},\n",
       "       {'TrafficVolume': 117, 'Bid': 2007200000, 'Price': 177800000},\n",
       "       {'TrafficVolume': 116, 'Bid': 290700000, 'Price': 162000000},\n",
       "       {'TrafficVolume': 115, 'Bid': 289200000, 'Price': 160900000},\n",
       "       {'TrafficVolume': 114, 'Bid': 287700000, 'Price': 159800000},\n",
       "       {'TrafficVolume': 113, 'Bid': 278000000, 'Price': 158600000},\n",
       "       {'TrafficVolume': 112, 'Bid': 276900000, 'Price': 157600000},\n",
       "       {'TrafficVolume': 111, 'Bid': 275800000, 'Price': 156500000},\n",
       "       {'TrafficVolume': 110, 'Bid': 274600000, 'Price': 155400000},\n",
       "       {'TrafficVolume': 109, 'Bid': 273000000, 'Price': 154300000},\n",
       "       {'TrafficVolume': 108, 'Bid': 271400000, 'Price': 153200000},\n",
       "       {'TrafficVolume': 107, 'Bid': 270900000, 'Price': 152100000},\n",
       "       {'TrafficVolume': 106, 'Bid': 270400000, 'Price': 151000000},\n",
       "       {'TrafficVolume': 105, 'Bid': 269900000, 'Price': 149800000},\n",
       "       {'TrafficVolume': 104, 'Bid': 269400000, 'Price': 148700000},\n",
       "       {'TrafficVolume': 103, 'Bid': 268900000, 'Price': 147500000},\n",
       "       {'TrafficVolume': 102, 'Bid': 268400000, 'Price': 146300000},\n",
       "       {'TrafficVolume': 101, 'Bid': 267900000, 'Price': 145100000},\n",
       "       {'TrafficVolume': 100, 'Bid': 267400000, 'Price': 143900000},\n",
       "       {'TrafficVolume': 99, 'Bid': 266900000, 'Price': 142600000},\n",
       "       {'TrafficVolume': 98, 'Bid': 266400000, 'Price': 141400000},\n",
       "       {'TrafficVolume': 97, 'Bid': 265900000, 'Price': 140100000},\n",
       "       {'TrafficVolume': 96, 'Bid': 260100000, 'Price': 138800000},\n",
       "       {'TrafficVolume': 95, 'Bid': 258300000, 'Price': 137500000},\n",
       "       {'TrafficVolume': 94, 'Bid': 256400000, 'Price': 136200000},\n",
       "       {'TrafficVolume': 93, 'Bid': 254500000, 'Price': 134900000},\n",
       "       {'TrafficVolume': 92, 'Bid': 252600000, 'Price': 133600000},\n",
       "       {'TrafficVolume': 91, 'Bid': 250700000, 'Price': 132300000},\n",
       "       {'TrafficVolume': 90, 'Bid': 248500000, 'Price': 131000000},\n",
       "       {'TrafficVolume': 89, 'Bid': 240100000, 'Price': 129700000},\n",
       "       {'TrafficVolume': 88, 'Bid': 239900000, 'Price': 128400000},\n",
       "       {'TrafficVolume': 87, 'Bid': 239700000, 'Price': 127100000},\n",
       "       {'TrafficVolume': 86, 'Bid': 239500000, 'Price': 125800000},\n",
       "       {'TrafficVolume': 85, 'Bid': 239300000, 'Price': 124500000},\n",
       "       {'TrafficVolume': 80, 'Bid': 238200000, 'Price': 117300000},\n",
       "       {'TrafficVolume': 75, 'Bid': 236800000, 'Price': 109300000},\n",
       "       {'TrafficVolume': 70, 'Bid': 233500000, 'Price': 100200000},\n",
       "       {'TrafficVolume': 65, 'Bid': 224900000, 'Price': 90300000},\n",
       "       {'TrafficVolume': 15, 'Bid': 59100000, 'Price': 57500000},\n",
       "       {'TrafficVolume': 10, 'Bid': 59100000, 'Price': 56700000},\n",
       "       {'TrafficVolume': 5, 'Bid': 56000000, 'Price': 56000000}]}},\n",
       "    'Network': {'Bid': 99000000, 'Coverage': {'CoverageItems': []}},\n",
       "    'CampaignId': 76475566,\n",
       "    'AdGroupId': 4973667406,\n",
       "    'KeywordId': 39998321635}]}}"
      ]
     },
     "execution_count": 60,
     "metadata": {},
     "output_type": "execute_result"
    }
   ],
   "source": [
    "# https://yandex.ru/dev/direct/doc/ref-v5/keywordbids/keywordbids.html\n",
    "# https://yandex.ru/dev/direct/doc/ref-v5/keywordbids/get.html\n",
    "\n",
    "# *** Можно указать ОДИН из ТРЕХ параметров или ВСЕ\n",
    "Campaign_id = 76475566\n",
    "# AdGroupIds \n",
    "# KeywordIds\n",
    "# ***\n",
    "\n",
    "# Список итоговых полей в таблице - ОБЩИЕ параметры\n",
    "FieldNames = ['CampaignId', 'AdGroupId',  'KeywordId']\n",
    "\n",
    "# Список итоговых полей - параметри при ПОИСКЕ\n",
    "SearchFieldNames = ['Bid', 'AuctionBids']\n",
    "\n",
    "# Список итоговых полей в таблице - параметры в СЕТЯХ\n",
    "NetworkFieldNames = ['Bid', 'Coverage']\n",
    "\n",
    "# Создание тела запроса\n",
    "params = {}\n",
    "params[\"SelectionCriteria\"] = {}\n",
    "params[\"SelectionCriteria\"]['CampaignIds'] = [Campaign_id]\n",
    "\n",
    "# Для получения параметров \n",
    "params[\"FieldNames\"] = FieldNames\n",
    "params[\"SearchFieldNames\"] = SearchFieldNames\n",
    "params[\"NetworkFieldNames\"] = NetworkFieldNames\n",
    "\n",
    "service = 'keywordbids'\n",
    "method = \"get\"\n",
    "result = direct.requestAPI(service, method, params, login).json()\n",
    "result"
   ]
  },
  {
   "cell_type": "code",
   "execution_count": null,
   "id": "928d8ae2",
   "metadata": {},
   "outputs": [],
   "source": []
  },
  {
   "cell_type": "markdown",
   "id": "a240cc58",
   "metadata": {},
   "source": [
    "### set - Назначает фиксированные ставки и приоритеты для ключевых фраз и автотаргетингов"
   ]
  },
  {
   "cell_type": "code",
   "execution_count": 59,
   "id": "1ee11441",
   "metadata": {},
   "outputs": [
    {
     "data": {
      "text/plain": [
       "{'result': {'SetResults': [{'CampaignId': 76475566}]}}"
      ]
     },
     "execution_count": 59,
     "metadata": {},
     "output_type": "execute_result"
    }
   ],
   "source": [
    "# https://yandex.ru/dev/direct/doc/ref-v5/keywordbids/keywordbids.html\n",
    "# https://yandex.ru/dev/direct/doc/ref-v5/keywordbids/set.html\n",
    "\n",
    "# Ставку или приоритет можно назначить:\n",
    "# - для отдельной ключевой фразы или автотаргетинга;\n",
    "# - для всех ключевых фраз и автотаргетинга в группе объявлений;\n",
    "# - для всех ключевых фраз и автотаргетингов в кампании.\n",
    "\n",
    "# id РК\n",
    "Campaign_id = 76475566\n",
    "\n",
    "KeywordBid_1 = {}\n",
    "KeywordBid_1['CampaignId'] = Campaign_id\n",
    "# Ставка на поиске\n",
    "KeywordBid_1['SearchBid'] = 33000000\n",
    "# Ставка в сетях\n",
    "KeywordBid_1['NetworkBid'] = 99000000\n",
    "\n",
    "# Создание тела запроса\n",
    "params = {}\n",
    "params[\"KeywordBids\"] = [KeywordBid_1]\n",
    "\n",
    "service = 'keywordbids'\n",
    "method = \"set\"\n",
    "result = direct.requestAPI(service, method, params, login).json()\n",
    "result"
   ]
  },
  {
   "cell_type": "code",
   "execution_count": null,
   "id": "03848813",
   "metadata": {},
   "outputs": [],
   "source": []
  },
  {
   "cell_type": "code",
   "execution_count": null,
   "id": "ec4be170",
   "metadata": {},
   "outputs": [],
   "source": []
  },
  {
   "cell_type": "markdown",
   "id": "1710a2ba",
   "metadata": {},
   "source": [
    "# BidModifiers - управление корректировками ставок"
   ]
  },
  {
   "cell_type": "markdown",
   "id": "79539c84",
   "metadata": {},
   "source": [
    "**Внимание!!!**\n",
    "Можно подключать к корректировке ставок - \"RetargetingLists\", т.е устанавливать коррекции для сегментов из Я-Аудиторий !!! \n",
    "https://yandex.ru/support/audience/audience-in-direct.html"
   ]
  },
  {
   "cell_type": "markdown",
   "id": "0ad4bcac",
   "metadata": {},
   "source": [
    "### add - cоздает корректировки ставок"
   ]
  },
  {
   "cell_type": "code",
   "execution_count": 63,
   "id": "050de312",
   "metadata": {},
   "outputs": [
    {
     "data": {
      "text/plain": [
       "{'result': {'AddResults': [{'Ids': [11947093810]}]}}"
      ]
     },
     "execution_count": 63,
     "metadata": {},
     "output_type": "execute_result"
    }
   ],
   "source": [
    "# https://yandex.ru/dev/direct/doc/ref-v5/bidmodifiers/bidmodifiers.html\n",
    "# https://yandex.ru/dev/direct/doc/ref-v5/bidmodifiers/add.html\n",
    "\n",
    "# Соответствие типов корректировок типам кампаний и групп:\n",
    "# https://yandex.ru/dev/direct/doc/dg/objects/bidmodifier.html#compatibility\n",
    "\n",
    "# ----- Корректировка - 1 (для мобильных)\n",
    "BidModifier_1 = {}\n",
    "# Корректировка на мобильных\n",
    "BidModifier_1['MobileAdjustment'] = {}\n",
    "# Значение коэффициента к ставке - в % (от 0 до 1300)\n",
    "BidModifier_1['MobileAdjustment']['BidModifier'] = 120\n",
    "\n",
    "# Либо CampaignId, либо AdGroupId\n",
    "BidModifier_1['CampaignId'] = 76475566\n",
    "# BidModifier_1['AdGroupId'] = \n",
    "\n",
    "\n",
    "# ----- Корректировка - 2 (демография)\n",
    "DemographicsAdjustment_01 = {}\n",
    "DemographicsAdjustment_01['Gender'] = \"GENDER_MALE\"\n",
    "# Значение коэффициента к ставке - в % (от 0 до 1300)\n",
    "DemographicsAdjustment_01['BidModifier'] = 170\n",
    "\n",
    "\n",
    "BidModifier_2 = {}\n",
    "BidModifier_2['DemographicsAdjustments'] = [DemographicsAdjustment_01]\n",
    "\n",
    "\n",
    "# Либо CampaignId, либо AdGroupId\n",
    "BidModifier_2['CampaignId'] = 76475566\n",
    "# BidModifier_1['AdGroupId'] = \n",
    "\n",
    "\n",
    "# Создание тела запроса\n",
    "params = {}\n",
    "params[\"BidModifiers\"] = [BidModifier_2]\n",
    "\n",
    "service = 'bidmodifiers'\n",
    "method = \"add\"\n",
    "result = direct.requestAPI(service, method, params, login).json()\n",
    "result"
   ]
  },
  {
   "cell_type": "code",
   "execution_count": null,
   "id": "6220240f",
   "metadata": {},
   "outputs": [],
   "source": []
  },
  {
   "cell_type": "markdown",
   "id": "b3d02779",
   "metadata": {},
   "source": [
    "### get - возвращает параметры корректировок, отвечающих заданным критериям"
   ]
  },
  {
   "cell_type": "code",
   "execution_count": 64,
   "id": "494ee511",
   "metadata": {},
   "outputs": [
    {
     "data": {
      "text/plain": [
       "{'result': {'BidModifiers': [{'CampaignId': 76475566,\n",
       "    'AdGroupId': None,\n",
       "    'Id': 11947093810,\n",
       "    'Level': 'CAMPAIGN',\n",
       "    'Type': 'DEMOGRAPHICS_ADJUSTMENT'}]}}"
      ]
     },
     "execution_count": 64,
     "metadata": {},
     "output_type": "execute_result"
    }
   ],
   "source": [
    "# https://yandex.ru/dev/direct/doc/ref-v5/bidmodifiers/bidmodifiers.html\n",
    "# https://yandex.ru/dev/direct/doc/ref-v5/bidmodifiers/get.html\n",
    "\n",
    "# Создание тела запроса\n",
    "params = {}\n",
    "params[\"SelectionCriteria\"] = {}\n",
    "\n",
    "# Хотя бы один из параметров CampaignIds, AdGroupIds и Ids\n",
    "params[\"SelectionCriteria\"]['CampaignIds'] = [76475566]\n",
    "# params[\"SelectionCriteria\"]['AdGroupIds'] = []\n",
    "# params[\"SelectionCriteria\"]['Ids'] = []\n",
    "\n",
    "params[\"SelectionCriteria\"]['Levels'] = [\"CAMPAIGN\", \"AD_GROUP\"]\n",
    "\n",
    "# Список выводимых полей - высокий уровень\n",
    "params[\"FieldNames\"] =[ \"Id\", \"CampaignId\", \"AdGroupId\", \"Level\", \"Type\" ]\n",
    "\n",
    "# Список выводимых полей - по мобильным\n",
    "params[\"MobileAdjustmentFieldNames\"] = [ \"BidModifier\", \"OperatingSystemType\" ]\n",
    "\n",
    "service = 'bidmodifiers'\n",
    "method = \"get\"\n",
    "result = direct.requestAPI(service, method, params, login).json()\n",
    "result"
   ]
  },
  {
   "cell_type": "code",
   "execution_count": null,
   "id": "509ea8ff",
   "metadata": {},
   "outputs": [],
   "source": []
  },
  {
   "cell_type": "markdown",
   "id": "afcfcc65",
   "metadata": {},
   "source": [
    "### set - Изменяет значения коэффициентов в корректировках ставок (по сути - update)"
   ]
  },
  {
   "cell_type": "code",
   "execution_count": 24,
   "id": "fef245d6",
   "metadata": {},
   "outputs": [
    {
     "data": {
      "text/plain": [
       "{'result': {'SetResults': [{'Id': 10945233426}]}}"
      ]
     },
     "execution_count": 24,
     "metadata": {},
     "output_type": "execute_result"
    }
   ],
   "source": [
    "# https://yandex.ru/dev/direct/doc/ref-v5/bidmodifiers/bidmodifiers.html\n",
    "# https://yandex.ru/dev/direct/doc/ref-v5/bidmodifiers/set.html\n",
    "\n",
    "BidModifier_1 = {}\n",
    "# Идентификатор корректировки\n",
    "BidModifier_1['Id'] = 10945233426\n",
    "# Значение коэффициента к ставке - в % (от 0 до 1300)\n",
    "BidModifier_1['BidModifier'] = 150\n",
    "\n",
    "# Создание тела запроса\n",
    "params = {}\n",
    "params[\"BidModifiers\"] = [BidModifier_1]\n",
    "\n",
    "service = 'bidmodifiers'\n",
    "method = \"set\"\n",
    "result = direct.requestAPI(service, method, params, login).json()\n",
    "result"
   ]
  },
  {
   "cell_type": "code",
   "execution_count": null,
   "id": "21eae1c5",
   "metadata": {},
   "outputs": [],
   "source": []
  },
  {
   "cell_type": "markdown",
   "id": "a1da084e",
   "metadata": {},
   "source": [
    "### toggle - Включает/выключает набор корректировок"
   ]
  },
  {
   "cell_type": "code",
   "execution_count": 34,
   "id": "03a96e12",
   "metadata": {},
   "outputs": [
    {
     "data": {
      "text/plain": [
       "{'result': {'ToggleResults': [{'CampaignId': 76037266,\n",
       "    'Type': 'DEMOGRAPHICS_ADJUSTMENT'}]}}"
      ]
     },
     "execution_count": 34,
     "metadata": {},
     "output_type": "execute_result"
    }
   ],
   "source": [
    "# https://yandex.ru/dev/direct/doc/ref-v5/bidmodifiers/bidmodifiers.html\n",
    "# https://yandex.ru/dev/direct/doc/ref-v5/bidmodifiers/toggle.html\n",
    "\n",
    "BidModifierToggleItem_1 = {}\n",
    "\n",
    "# Либо CampaignId, либо AdGroupId\n",
    "BidModifierToggleItem_1['CampaignId'] = 76037266\n",
    "# BidModifierToggleItem_1['AdGroupId'] = \n",
    "\n",
    "# Тип корректировок, которые нужно включить или выключить: \n",
    "# DEMOGRAPHICS_ADJUSTMENT\n",
    "# RETARGETING_ADJUSTMENT\n",
    "# REGIONAL_ADJUSTMENT\n",
    "# SERP_LAYOUT_ADJUSTMENT\n",
    "# INCOME_GRADE_ADJUSTMENT\n",
    "BidModifierToggleItem_1['Type'] = 'DEMOGRAPHICS_ADJUSTMENT'\n",
    "\n",
    "# YES — включить набор корректировок, NO — выключить набор корректировок.\n",
    "BidModifierToggleItem_1['Enabled'] = \"NO\"\n",
    "\n",
    "\n",
    "# Создание тела запроса\n",
    "params = {}\n",
    "params[\"BidModifierToggleItems\"] = [BidModifierToggleItem_1]\n",
    "\n",
    "service = 'bidmodifiers'\n",
    "method = \"toggle\"\n",
    "result = direct.requestAPI(service, method, params, login).json()\n",
    "result"
   ]
  },
  {
   "cell_type": "code",
   "execution_count": null,
   "id": "94a691f4",
   "metadata": {},
   "outputs": [],
   "source": []
  },
  {
   "cell_type": "markdown",
   "id": "12856a49",
   "metadata": {},
   "source": [
    "### delete - Удаляет корректировки ставок"
   ]
  },
  {
   "cell_type": "code",
   "execution_count": 38,
   "id": "00d2bba8",
   "metadata": {},
   "outputs": [
    {
     "data": {
      "text/plain": [
       "{'result': {'DeleteResults': [{'Id': 11945245039}]}}"
      ]
     },
     "execution_count": 38,
     "metadata": {},
     "output_type": "execute_result"
    }
   ],
   "source": [
    "# https://yandex.ru/dev/direct/doc/ref-v5/bidmodifiers/bidmodifiers.html\n",
    "# https://yandex.ru/dev/direct/doc/ref-v5/bidmodifiers/delete.html\n",
    "\n",
    "# Создание тела запроса\n",
    "params = {}\n",
    "params[\"SelectionCriteria\"] = {}\n",
    "# Идентификаторы корректировок, которые требуется удалить\n",
    "params[\"SelectionCriteria\"]['Ids'] = [11945245039]\n",
    "\n",
    "service = 'bidmodifiers'\n",
    "method = \"delete\"\n",
    "result = direct.requestAPI(service, method, params, login).json()\n",
    "result"
   ]
  },
  {
   "cell_type": "code",
   "execution_count": null,
   "id": "67d11c80",
   "metadata": {},
   "outputs": [],
   "source": []
  },
  {
   "cell_type": "code",
   "execution_count": null,
   "id": "76dc16a2",
   "metadata": {},
   "outputs": [],
   "source": []
  },
  {
   "cell_type": "markdown",
   "id": "f603ca4a",
   "metadata": {},
   "source": [
    "# RetargetingLists - создание ЛИСТА подбора аудитории - ретаргетинг"
   ]
  },
  {
   "cell_type": "markdown",
   "id": "2ab5fff3",
   "metadata": {},
   "source": [
    "### Создает условия ретаргетинга и подбора аудитории (add)"
   ]
  },
  {
   "cell_type": "markdown",
   "id": "9d79ee4a",
   "metadata": {},
   "source": [
    "Возвращает ставки и приоритеты для ключевых фраз и автотаргетингов, отвечающих заданным критериям, а также данные, полезные при подборе ставок: данные аукциона по позициям показа на поиске и ставки для охвата различных долей аудитории в сетях."
   ]
  },
  {
   "cell_type": "markdown",
   "id": "0a247f22",
   "metadata": {},
   "source": [
    "Для настройки условия ретаргетинга и подбора аудитории используются:\n",
    "* **Цели и сегменты**, настроенные в **Яндекс-Метрике**\n",
    "* **Сегменты**, настроенные в **Яндекс-Аудиториях**\n",
    "* Сегменты на основе данных Крипты: сегменты по социально-демографическим характеристикам и поведенческим признакам, а также сегменты по интересам пользователя, см. раздел Профиль пользователей помощи Директа."
   ]
  },
  {
   "cell_type": "markdown",
   "id": "6fc856e4",
   "metadata": {},
   "source": [
    "### add - Создаем RetargetingLists (используем цель из Яндекс-Метрики) "
   ]
  },
  {
   "cell_type": "code",
   "execution_count": 66,
   "id": "3c9e34c6",
   "metadata": {},
   "outputs": [
    {
     "data": {
      "text/plain": [
       "{'result': {'AddResults': [{'Id': 11439536}]}}"
      ]
     },
     "execution_count": 66,
     "metadata": {},
     "output_type": "execute_result"
    }
   ],
   "source": [
    "# https://yandex.ru/dev/direct/doc/ref-v5/retargetinglists/retargetinglists.html\n",
    "# https://yandex.ru/dev/direct/doc/ref-v5/retargetinglists/add.html\n",
    "\n",
    "\n",
    "RetargetingLists_1 = {}\n",
    "RetargetingLists_1['Type'] = 'RETARGETING'\n",
    "RetargetingLists_1['Name'] = 'test_METRIKA_01'\n",
    "\n",
    "# Правило 1\n",
    "Argument_1 = {}\n",
    "# Количество дней (от 1 до 540), за которое проверяется выполнение цели.\n",
    "Argument_1['MembershipLifeSpan'] = 300\n",
    "# Идентификатор цели (из Яндекс-Метрики - добавить в корзину) или сегмента\n",
    "Argument_1['ExternalId'] = 222601045 \n",
    "# 222601045\n",
    "\n",
    "\n",
    "# Набор правил 1\n",
    "Rule_1 = {}\n",
    "Rule_1['Arguments'] = [Argument_1]\n",
    "Rule_1[\"Operator\"] = \"ALL\"\n",
    "\n",
    "RetargetingLists_1['Rules'] = [Rule_1]\n",
    "\n",
    "\n",
    "# Создание тела запроса\n",
    "params = {}\n",
    "params[\"RetargetingLists\"] = [RetargetingLists_1]\n",
    "\n",
    "\n",
    "service = 'retargetinglists'\n",
    "method = \"add\"\n",
    "result = direct.requestAPI(service, method, params, login).json()\n",
    "result"
   ]
  },
  {
   "cell_type": "markdown",
   "id": "e7df0dad",
   "metadata": {},
   "source": [
    "### add - Создаем RetargetingLists (используем СЕГМЕНТ из Яндекс-Метрики) "
   ]
  },
  {
   "cell_type": "code",
   "execution_count": 69,
   "id": "38e197bb",
   "metadata": {},
   "outputs": [
    {
     "data": {
      "text/plain": [
       "{'result': {'AddResults': [{'Id': 11439593}]}}"
      ]
     },
     "execution_count": 69,
     "metadata": {},
     "output_type": "execute_result"
    }
   ],
   "source": [
    "# https://yandex.ru/dev/direct/doc/ref-v5/retargetinglists/retargetinglists.html\n",
    "# https://yandex.ru/dev/direct/doc/ref-v5/retargetinglists/add.html\n",
    "\n",
    "\n",
    "RetargetingLists_1 = {}\n",
    "RetargetingLists_1['Type'] = 'RETARGETING'\n",
    "RetargetingLists_1['Name'] = 'test_METRIKA_SEGMENT_01'\n",
    "\n",
    "# Правило 1\n",
    "Argument_1 = {}\n",
    "# Количество дней (от 1 до 540), за которое проверяется выполнение цели.\n",
    "Argument_1['MembershipLifeSpan'] = 300\n",
    "# Идентификатор СЕГМЕНТА из Я-Метрики \n",
    "Argument_1['ExternalId'] = 1006408065 \n",
    "# 222601045\n",
    "\n",
    "\n",
    "# Набор правил 1\n",
    "Rule_1 = {}\n",
    "Rule_1['Arguments'] = [Argument_1]\n",
    "Rule_1[\"Operator\"] = \"ALL\"\n",
    "\n",
    "RetargetingLists_1['Rules'] = [Rule_1]\n",
    "\n",
    "\n",
    "# Создание тела запроса\n",
    "params = {}\n",
    "params[\"RetargetingLists\"] = [RetargetingLists_1]\n",
    "\n",
    "\n",
    "service = 'retargetinglists'\n",
    "method = \"add\"\n",
    "result = direct.requestAPI(service, method, params, login).json()\n",
    "result"
   ]
  },
  {
   "cell_type": "markdown",
   "id": "7d0aa711",
   "metadata": {},
   "source": [
    "### add - Создаем RetargetingLists (сегмент из Яндекс-Аудитории) "
   ]
  },
  {
   "cell_type": "markdown",
   "id": "f8712a2e",
   "metadata": {},
   "source": [
    "### **Внимание!!!** Перед id (для Яндекс-Аудиторий) необходимо добавлять префикс \"20\" "
   ]
  },
  {
   "cell_type": "code",
   "execution_count": 71,
   "id": "3d00b2bd",
   "metadata": {},
   "outputs": [
    {
     "data": {
      "text/plain": [
       "{'result': {'AddResults': [{'Id': 11439619}]}}"
      ]
     },
     "execution_count": 71,
     "metadata": {},
     "output_type": "execute_result"
    }
   ],
   "source": [
    "# https://yandex.ru/dev/direct/doc/ref-v5/retargetinglists/retargetinglists.html\n",
    "# https://yandex.ru/dev/direct/doc/ref-v5/retargetinglists/add.html\n",
    "\n",
    "\n",
    "RetargetingLists_2 = {}\n",
    "RetargetingLists_2['Type'] = 'AUDIENCE'\n",
    "RetargetingLists_2['Name'] = 'test_test_test_02'\n",
    "\n",
    "# Правило 1\n",
    "Argument_2 = {}\n",
    "# Количество дней (от 1 до 540), за которое проверяется выполнение цели - в Я-А - не используется\n",
    "Argument_2['MembershipLifeSpan'] = 300\n",
    "# Идентификатор сегмента\n",
    "# Внимание!!! Перед id (для Яндекс-Аудиторий) необходимо добавлять префикс \"20\"\n",
    "Argument_2['ExternalId'] = 2024733284\n",
    "\n",
    "\n",
    "# Набор правил 1\n",
    "Rule_2 = {}\n",
    "Rule_2['Arguments'] = [Argument_2]\n",
    "Rule_2[\"Operator\"] = \"ALL\"\n",
    "\n",
    "RetargetingLists_2['Rules'] = [Rule_2]\n",
    "\n",
    "\n",
    "# Создание тела запроса\n",
    "params = {}\n",
    "params[\"RetargetingLists\"] = [RetargetingLists_2]\n",
    "\n",
    "\n",
    "service = 'retargetinglists'\n",
    "method = \"add\"\n",
    "result = direct.requestAPI(service, method, params, login).json()\n",
    "result"
   ]
  },
  {
   "cell_type": "code",
   "execution_count": null,
   "id": "aacf61bd",
   "metadata": {},
   "outputs": [],
   "source": []
  },
  {
   "cell_type": "markdown",
   "id": "1c42d80f",
   "metadata": {},
   "source": [
    "### get - Возвращает условия ретаргетинга и подбора аудитории"
   ]
  },
  {
   "cell_type": "code",
   "execution_count": 72,
   "id": "78dff4a0",
   "metadata": {},
   "outputs": [
    {
     "data": {
      "text/plain": [
       "{'result': {'RetargetingLists': [{'Type': 'RETARGETING',\n",
       "    'Id': 8377543,\n",
       "    'Name': 'Положил в корзину, но не заказал',\n",
       "    'Description': None,\n",
       "    'Rules': [{'Arguments': [{'MembershipLifeSpan': 60,\n",
       "        'ExternalId': 222601045}],\n",
       "      'Operator': 'ALL'},\n",
       "     {'Arguments': [{'MembershipLifeSpan': 60, 'ExternalId': 222601153},\n",
       "       {'MembershipLifeSpan': 60, 'ExternalId': 222601576}],\n",
       "      'Operator': 'NONE'}]},\n",
       "   {'Type': 'RETARGETING',\n",
       "    'Id': 8377566,\n",
       "    'Name': 'Посетил, но не оформил',\n",
       "    'Description': None,\n",
       "    'Rules': [{'Arguments': [{'MembershipLifeSpan': 60,\n",
       "        'ExternalId': 3065071099}],\n",
       "      'Operator': 'NONE'},\n",
       "     {'Arguments': [{'MembershipLifeSpan': 60, 'ExternalId': 4065071099}],\n",
       "      'Operator': 'ANY'}]},\n",
       "   {'Type': 'RETARGETING',\n",
       "    'Id': 9389777,\n",
       "    'Name': 'просмотр более 3-х стр',\n",
       "    'Description': None,\n",
       "    'Rules': [{'Arguments': [{'MembershipLifeSpan': 14,\n",
       "        'ExternalId': 135311017}],\n",
       "      'Operator': 'ANY'}]},\n",
       "   {'Type': 'AUDIENCE',\n",
       "    'Id': 10068282,\n",
       "    'Name': 'Интересы и привычки',\n",
       "    'Description': None,\n",
       "    'Rules': [{'Arguments': [{'MembershipLifeSpan': 0,\n",
       "        'ExternalId': 102499001100},\n",
       "       {'MembershipLifeSpan': 0, 'ExternalId': 102499001105},\n",
       "       {'MembershipLifeSpan': 0, 'ExternalId': 102499001142},\n",
       "       {'MembershipLifeSpan': 0, 'ExternalId': 102499001218},\n",
       "       {'MembershipLifeSpan': 0, 'ExternalId': 102499001278},\n",
       "       {'MembershipLifeSpan': 0, 'ExternalId': 102499001299},\n",
       "       {'MembershipLifeSpan': 0, 'ExternalId': 102499001432},\n",
       "       {'MembershipLifeSpan': 0, 'ExternalId': 102499680155}],\n",
       "      'Operator': 'ANY'}]},\n",
       "   {'Type': 'AUDIENCE',\n",
       "    'Id': 10068294,\n",
       "    'Name': 'Интересы и привычки',\n",
       "    'Description': None,\n",
       "    'Rules': [{'Arguments': [{'MembershipLifeSpan': 540,\n",
       "        'ExternalId': 19000017424},\n",
       "       {'MembershipLifeSpan': 540, 'ExternalId': 19000026754},\n",
       "       {'MembershipLifeSpan': 540, 'ExternalId': 19000965415},\n",
       "       {'MembershipLifeSpan': 540, 'ExternalId': 19000102450},\n",
       "       {'MembershipLifeSpan': 540, 'ExternalId': 19000412072},\n",
       "       {'MembershipLifeSpan': 540, 'ExternalId': 19002592622}],\n",
       "      'Operator': 'ANY'}]},\n",
       "   {'Type': 'RETARGETING',\n",
       "    'Id': 10804659,\n",
       "    'Name': 'Корзина без покупки',\n",
       "    'Description': None,\n",
       "    'Rules': [{'Arguments': [{'MembershipLifeSpan': 60,\n",
       "        'ExternalId': 225142645}],\n",
       "      'Operator': 'ANY'},\n",
       "     {'Arguments': [{'MembershipLifeSpan': 60, 'ExternalId': 3065071099}],\n",
       "      'Operator': 'NONE'}]},\n",
       "   {'Type': 'AUDIENCE',\n",
       "    'Id': 11153503,\n",
       "    'Name': 'UC autoretargeting 95316694 2022-07-05T12:54:26.059167',\n",
       "    'Description': None,\n",
       "    'Rules': [{'Arguments': [{'MembershipLifeSpan': 0,\n",
       "        'ExternalId': 102499680061},\n",
       "       {'MembershipLifeSpan': 0, 'ExternalId': 102499680155}],\n",
       "      'Operator': 'ANY'}]},\n",
       "   {'Type': 'RETARGETING',\n",
       "    'Id': 11439536,\n",
       "    'Name': 'test_METRIKA_01',\n",
       "    'Description': None,\n",
       "    'Rules': [{'Arguments': [{'MembershipLifeSpan': 300,\n",
       "        'ExternalId': 222601045}],\n",
       "      'Operator': 'ALL'}]},\n",
       "   {'Type': 'RETARGETING',\n",
       "    'Id': 11439593,\n",
       "    'Name': 'test_METRIKA_SEGMENT_01',\n",
       "    'Description': None,\n",
       "    'Rules': [{'Arguments': [{'MembershipLifeSpan': 540,\n",
       "        'ExternalId': 1006408065}],\n",
       "      'Operator': 'ALL'}]},\n",
       "   {'Type': 'AUDIENCE',\n",
       "    'Id': 11439619,\n",
       "    'Name': 'test_test_test_02',\n",
       "    'Description': None,\n",
       "    'Rules': [{'Arguments': [{'MembershipLifeSpan': 540,\n",
       "        'ExternalId': 2024733284}],\n",
       "      'Operator': 'ALL'}]}]}}"
      ]
     },
     "execution_count": 72,
     "metadata": {},
     "output_type": "execute_result"
    }
   ],
   "source": [
    "# https://yandex.ru/dev/direct/doc/ref-v5/retargetinglists/retargetinglists.html\n",
    "# https://yandex.ru/dev/direct/doc/ref-v5/retargetinglists/get.html\n",
    "\n",
    "params = {}\n",
    "params[\"SelectionCriteria\"] = {}\n",
    "params[\"SelectionCriteria\"]['Types'] = [ 'RETARGETING', 'AUDIENCE' ]\n",
    "\n",
    "# Для получения параметров ВЕРХНЕГО уровня\n",
    "params[\"FieldNames\"] = [\"Type\", \"Id\", \"Name\", \"Description\", \"Rules\"]\n",
    "\n",
    "service = 'retargetinglists'\n",
    "method = \"get\"\n",
    "result = direct.requestAPI(service, method, params, login).json()\n",
    "result"
   ]
  },
  {
   "cell_type": "code",
   "execution_count": null,
   "id": "f1f50e26",
   "metadata": {},
   "outputs": [],
   "source": []
  },
  {
   "cell_type": "markdown",
   "id": "6a1819f5",
   "metadata": {},
   "source": [
    "### delete - Удаляет условия ретаргетинга и подбора аудитории"
   ]
  },
  {
   "cell_type": "code",
   "execution_count": 49,
   "id": "91bd14f9",
   "metadata": {},
   "outputs": [
    {
     "data": {
      "text/plain": [
       "{'result': {'DeleteResults': [{'Id': 11435573}]}}"
      ]
     },
     "execution_count": 49,
     "metadata": {},
     "output_type": "execute_result"
    }
   ],
   "source": [
    "# https://yandex.ru/dev/direct/doc/ref-v5/retargetinglists/retargetinglists.html\n",
    "# https://yandex.ru/dev/direct/doc/ref-v5/retargetinglists/delete.html\n",
    "\n",
    "params = {}\n",
    "params[\"SelectionCriteria\"] = {}\n",
    "params[\"SelectionCriteria\"]['Ids'] = [11435573]\n",
    "\n",
    "service = 'retargetinglists'\n",
    "method = \"delete\"\n",
    "result = direct.requestAPI(service, method, params, login).json()\n",
    "result"
   ]
  },
  {
   "cell_type": "code",
   "execution_count": null,
   "id": "ae1287f9",
   "metadata": {},
   "outputs": [],
   "source": []
  },
  {
   "cell_type": "code",
   "execution_count": null,
   "id": "eb1ea331",
   "metadata": {},
   "outputs": [],
   "source": []
  },
  {
   "cell_type": "markdown",
   "id": "69511574",
   "metadata": {},
   "source": [
    "# AudienceTargets - связывает: RetargetingList + AdGroup"
   ]
  },
  {
   "cell_type": "markdown",
   "id": "2dad0bbc",
   "metadata": {},
   "source": [
    "### add - Создаем связь (RetargetingList - AdGroup)"
   ]
  },
  {
   "cell_type": "markdown",
   "id": "b1af5126",
   "metadata": {},
   "source": [
    "Плюс для условий нацеливания:\n",
    "* назначаем ставки\n",
    "* приоритеты "
   ]
  },
  {
   "cell_type": "code",
   "execution_count": 41,
   "id": "8e32bc9c",
   "metadata": {},
   "outputs": [
    {
     "data": {
      "text/plain": [
       "{'result': {'AddResults': [{'Id': 34108684}]}}"
      ]
     },
     "execution_count": 41,
     "metadata": {},
     "output_type": "execute_result"
    }
   ],
   "source": [
    "# https://yandex.ru/dev/direct/doc/ref-v5/audiencetargets/audiencetargets.html\n",
    "# https://yandex.ru/dev/direct/doc/ref-v5/audiencetargets/add.html\n",
    "\n",
    "AdGroupId = 4973667406\n",
    "RetargetingListId = 11153503\n",
    "\n",
    "AudienceTarget_1 = {}\n",
    "AudienceTarget_1['AdGroupId'] = AdGroupId\n",
    "AudienceTarget_1['RetargetingListId'] = RetargetingListId\n",
    "# размер ставки\n",
    "AudienceTarget_1['ContextBid'] = 9000000\n",
    "\n",
    "# Создание тела запроса\n",
    "params = {}\n",
    "params[\"AudienceTargets\"] = [AudienceTarget_1]\n",
    "\n",
    "\n",
    "service = 'audiencetargets'\n",
    "method = \"add\"\n",
    "result = direct.requestAPI(service, method, params, login).json()\n",
    "result"
   ]
  },
  {
   "cell_type": "code",
   "execution_count": null,
   "id": "7fa19746",
   "metadata": {},
   "outputs": [],
   "source": []
  },
  {
   "cell_type": "markdown",
   "id": "e2704d9a",
   "metadata": {},
   "source": [
    "### get - Возвращает связь (RetargetingList - AdGroup)"
   ]
  },
  {
   "cell_type": "code",
   "execution_count": 42,
   "id": "1bfc6600",
   "metadata": {},
   "outputs": [
    {
     "data": {
      "text/plain": [
       "{'result': {'AudienceTargets': [{'Id': 34108684,\n",
       "    'AdGroupId': 4973667406,\n",
       "    'CampaignId': 76475566,\n",
       "    'RetargetingListId': 11153503,\n",
       "    'InterestId': None,\n",
       "    'State': 'ON',\n",
       "    'ContextBid': 9000000}]}}"
      ]
     },
     "execution_count": 42,
     "metadata": {},
     "output_type": "execute_result"
    }
   ],
   "source": [
    "# https://yandex.ru/dev/direct/doc/ref-v5/audiencetargets/audiencetargets.html\n",
    "# https://yandex.ru/dev/direct/doc/ref-v5/audiencetargets/get.html\n",
    "\n",
    "params = {}\n",
    "params[\"SelectionCriteria\"] = {}\n",
    "params[\"SelectionCriteria\"]['CampaignIds'] = [ 76475566 ]\n",
    "\n",
    "# Для получения параметров ВЕРХНЕГО уровня\n",
    "params[\"FieldNames\"] = [ \"Id\", \"AdGroupId\", \"CampaignId\", \"RetargetingListId\", \"InterestId\", \"ContextBid\", \"State\"]\n",
    "\n",
    "service = 'audiencetargets'\n",
    "method = \"get\"\n",
    "result = direct.requestAPI(service, method, params, login).json()\n",
    "result"
   ]
  },
  {
   "cell_type": "code",
   "execution_count": null,
   "id": "b7ddea1a",
   "metadata": {},
   "outputs": [],
   "source": []
  },
  {
   "cell_type": "markdown",
   "id": "a5abfa24",
   "metadata": {},
   "source": [
    "### setBids - Назначает ставки и приоритеты (RetargetingList - AdGroup)"
   ]
  },
  {
   "cell_type": "markdown",
   "id": "fcda9aa3",
   "metadata": {},
   "source": [
    "Ставку или приоритет можно назначить для: \n",
    "* отдельного условия нацеливания (указываем id-связи) на аудиторию, \n",
    "* всех условий нацеливания на аудиторию в группе объявлений (указываем id-группы объявлений) \n",
    "* всех условий нацеливания на аудиторию в кампании (указываем id-Кампании)."
   ]
  },
  {
   "cell_type": "code",
   "execution_count": 12,
   "id": "a1c1441f",
   "metadata": {},
   "outputs": [
    {
     "data": {
      "text/plain": [
       "{'result': {'SetBidsResults': [{'Id': 33869868}]}}"
      ]
     },
     "execution_count": 12,
     "metadata": {},
     "output_type": "execute_result"
    }
   ],
   "source": [
    "# https://yandex.ru/dev/direct/doc/ref-v5/audiencetargets/audiencetargets.html\n",
    "# https://yandex.ru/dev/direct/doc/ref-v5/audiencetargets/setBids.html\n",
    "\n",
    "Bid_1 = {}\n",
    "\n",
    "# Либо Id, либо AdGroupId, либо CampaignId\n",
    "Bid_1['Id'] = 33869868\n",
    "# Bid_1['AdGroupId'] = \n",
    "# Bid_1['CampaignId'] = \n",
    "Bid_1['ContextBid'] = 11000000\n",
    "\n",
    "params = {}\n",
    "params[\"Bids\"] = [Bid_1]\n",
    "\n",
    "service = 'audiencetargets'\n",
    "method = \"setBids\"\n",
    "result = direct.requestAPI(service, method, params, login).json()\n",
    "result"
   ]
  },
  {
   "cell_type": "code",
   "execution_count": null,
   "id": "07de1036",
   "metadata": {},
   "outputs": [],
   "source": []
  },
  {
   "cell_type": "markdown",
   "id": "5626135f",
   "metadata": {},
   "source": [
    "### suspend - Остановить показы (RetargetingList - AdGroup) "
   ]
  },
  {
   "cell_type": "markdown",
   "id": "6f35cf36",
   "metadata": {},
   "source": [
    "После выполнения функции: параметр 'State': 'SUSPENDED'"
   ]
  },
  {
   "cell_type": "code",
   "execution_count": 14,
   "id": "b98a9e87",
   "metadata": {},
   "outputs": [
    {
     "data": {
      "text/plain": [
       "{'result': {'SuspendResults': [{'Id': 33869868}]}}"
      ]
     },
     "execution_count": 14,
     "metadata": {},
     "output_type": "execute_result"
    }
   ],
   "source": [
    "# https://yandex.ru/dev/direct/doc/ref-v5/audiencetargets/audiencetargets.html\n",
    "# https://yandex.ru/dev/direct/doc/ref-v5/audiencetargets/suspend.html\n",
    "\n",
    "params = {}\n",
    "params[\"SelectionCriteria\"] = {}\n",
    "params[\"SelectionCriteria\"][\"Ids\"] = [33869868] \n",
    "\n",
    "service = 'audiencetargets'\n",
    "method = \"suspend\"\n",
    "result = direct.requestAPI(service, method, params, login).json()\n",
    "result"
   ]
  },
  {
   "cell_type": "code",
   "execution_count": null,
   "id": "d046cb84",
   "metadata": {},
   "outputs": [],
   "source": []
  },
  {
   "cell_type": "markdown",
   "id": "55119918",
   "metadata": {},
   "source": [
    "### resume - Возобновляет  показы (RetargetingList - AdGroup)"
   ]
  },
  {
   "cell_type": "markdown",
   "id": "87653755",
   "metadata": {},
   "source": [
    "После выполнения функции: параметр 'State': 'ON'"
   ]
  },
  {
   "cell_type": "code",
   "execution_count": 16,
   "id": "d354bd63",
   "metadata": {},
   "outputs": [
    {
     "data": {
      "text/plain": [
       "{'result': {'ResumeResults': [{'Id': 33869868}]}}"
      ]
     },
     "execution_count": 16,
     "metadata": {},
     "output_type": "execute_result"
    }
   ],
   "source": [
    "# https://yandex.ru/dev/direct/doc/ref-v5/audiencetargets/audiencetargets.html\n",
    "# https://yandex.ru/dev/direct/doc/ref-v5/audiencetargets/suspend.html\n",
    "\n",
    "params = {}\n",
    "params[\"SelectionCriteria\"] = {}\n",
    "params[\"SelectionCriteria\"][\"Ids\"] = [33869868] \n",
    "\n",
    "service = 'audiencetargets'\n",
    "method = \"resume\"\n",
    "result = direct.requestAPI(service, method, params, login).json()\n",
    "result"
   ]
  },
  {
   "cell_type": "code",
   "execution_count": null,
   "id": "0ea45ca4",
   "metadata": {},
   "outputs": [],
   "source": []
  },
  {
   "cell_type": "code",
   "execution_count": null,
   "id": "38f21dea",
   "metadata": {},
   "outputs": [],
   "source": []
  },
  {
   "cell_type": "markdown",
   "id": "2c7f33d3",
   "metadata": {},
   "source": [
    "# Feeds - операций с фидами"
   ]
  },
  {
   "cell_type": "markdown",
   "id": "75ffe6be",
   "metadata": {},
   "source": [
    "### add - Feed - создание фида"
   ]
  },
  {
   "cell_type": "code",
   "execution_count": 48,
   "id": "63947d75",
   "metadata": {},
   "outputs": [
    {
     "data": {
      "text/plain": [
       "{'result': {'AddResults': [{'Id': 432892}]}}"
      ]
     },
     "execution_count": 48,
     "metadata": {},
     "output_type": "execute_result"
    }
   ],
   "source": [
    "# https://yandex.ru/dev/direct/doc/ref-v5/feeds/feeds.html\n",
    "# https://yandex.ru/dev/direct/doc/ref-v5/feeds/add.html\n",
    "\n",
    "# Фид можно создавать на основе файла (строки) или на основе страницы на сайте\n",
    "\n",
    "# ??? - почему то требует указывать и файл и строку с данными в виде base64\n",
    "\n",
    "# Ограничения:\n",
    "# - Не более 50 фидов у одного рекламодателя. (1 фид - 1 файл)\n",
    "# - Не более 50 фидов в одном вызове метода.\n",
    "\n",
    "# Требования к фиду:\n",
    "# https://yandex.ru/support/direct/feeds/about.html#feeds__requirements\n",
    "# https://yandex.ru/support/direct/feeds/requirements.html\n",
    "\n",
    "# http://base64.ru/\n",
    "\n",
    "Feed_01 = {}\n",
    "Feed_01['Name'] = \"Feed_1\"\n",
    "Feed_01['BusinessType'] = \"RETAIL\"\n",
    "Feed_01['SourceType'] = \"FILE\"\n",
    "Feed_01['FileFeed'] = {}\n",
    "Feed_01['FileFeed']['Data'] = \"PG9mZmVyIGlkPSIwMTIzNDU2IiBhdmFpbGFibGU9InRydWUiPgogIDx1cmw+aHR0cDovL3d3dy7QvdCw0LTQtdC20L3QsNGP0YLQtdGF0L3QuNC60LAu0YDRhC9jYXRhbG9nL2VsZW1lbnQvaW5kZXgucGhwP2Zyb209eWFfbWFya2V0JmFtcDt1dG1fc291cmNlPXlhX21hcmtldCZhbXA7dXRtX21lZGl1bT1jcGMmYW1wPC91cmw+CiAgPHByaWNlPjE2MjAuMDA8L3ByaWNlPgogIDxvbGRwcmljZT4xODAwLjAwPC9vbGRwcmljZT4KICA8Y3VycmVuY3lJZD5SVUI8L2N1cnJlbmN5SWQ+CiAgPGNhdGVnb3J5SWQ+MTk8L2NhdGVnb3J5SWQ+CiAgPHBpY3R1cmU+aHR0cDovLzg5LjEyMy40NS42NzgvY2F0YWxvZy9waG90by8xOS82LkpQRzwvcGljdHVyZT4KICA8cGljdHVyZT5odHRwOi8vODkuMTIzLjQ1LjY3OC9jYXRhbG9nL3Bob3RvLzE5LzcuSlBHPC9waWN0dXJlPgogIDxzdG9yZT5mYWxzZTwvc3RvcmU+CiAgPHBpY2t1cD50cnVlPC9waWNrdXA+CiAgPGRlbGl2ZXJ5PmZhbHNlPC9kZWxpdmVyeT4KICA8bmFtZT7QkNC90YLQuNCy0LjRgNGD0YEgRVNFVCBOT0QzMiBQbGF0aW51bSBFZGl0aW9uPC9uYW1lPgogIDx2ZW5kb3I+RXNldDwvdmVuZG9yPgogIDx2ZW5kb3JDb2RlPk5PRDMyLUVOQS1OUyhCT1gpLTItMTwvdmVuZG9yQ29kZT4KICA8ZGVzY3JpcHRpb24+0JDQvdGC0LjQstC40YDRg9GBIEVTRVQgTk9EMzIgUGxhdGludW0gRWRpdGlvbiAtINC70LjRhtC10L3Qt9C40Y8g0L3QsCAyINCz0L7QtNCwIE5PRDMyLUVOQS1OUyhCT1gpLTItMTwvZGVzY3JpcHRpb24+CiAgPHNhbGVzX25vdGVzPtCe0L/Qu9Cw0YLQsDog0J3QsNC70LjRh9C90YvQtSwg0JEv0J0sINC/0LvQsNGB0YLQuNC60L7QstGL0LUg0LrQsNGA0YLRiywg0LrRgNC10LTQuNGCPC9zYWxlc19ub3Rlcz4KICA8bWFudWZhY3R1cmVyX3dhcnJhbnR5PnRydWU8L21hbnVmYWN0dXJlcl93YXJyYW50eT4KICA8Y291bnRyeV9vZl9vcmlnaW4+0KDQvtGB0YHQuNGPPC9jb3VudHJ5X29mX29yaWdpbj4KICA8YWdlIHVuaXQ9InllYXIiPjE4PC9hZ2U+Cjwvb2ZmZXI+\"\n",
    "Feed_01['FileFeed']['Filename'] = \"my_feed.yml\"\n",
    "\n",
    "params = {}\n",
    "params['Feeds'] = [Feed_01]\n",
    "\n",
    "service = 'feeds'\n",
    "method = \"add\"\n",
    "result = direct.requestAPI(service, method, params, login).json()\n",
    "result"
   ]
  },
  {
   "cell_type": "code",
   "execution_count": null,
   "id": "f22cddd1",
   "metadata": {},
   "outputs": [],
   "source": []
  },
  {
   "cell_type": "markdown",
   "id": "a601d2c1",
   "metadata": {},
   "source": [
    "### get - Возвращает параметры ФИДА"
   ]
  },
  {
   "cell_type": "code",
   "execution_count": 54,
   "id": "ae3a10fa",
   "metadata": {},
   "outputs": [
    {
     "data": {
      "text/plain": [
       "{'result': {'Feeds': [{'Id': 238509,\n",
       "    'Name': 'Фид 12.10.2021',\n",
       "    'BusinessType': 'RETAIL',\n",
       "    'FileFeed': {},\n",
       "    'Status': 'DONE'},\n",
       "   {'Id': 432888,\n",
       "    'Name': 'Feed_1',\n",
       "    'BusinessType': 'RETAIL',\n",
       "    'FileFeed': {'Filename': 'my_feed.yml'},\n",
       "    'Status': 'ERROR'},\n",
       "   {'Id': 432892,\n",
       "    'Name': 'Feed_1',\n",
       "    'BusinessType': 'RETAIL',\n",
       "    'FileFeed': {'Filename': 'my_feed.yml'},\n",
       "    'Status': 'ERROR'}]}}"
      ]
     },
     "execution_count": 54,
     "metadata": {},
     "output_type": "execute_result"
    }
   ],
   "source": [
    "# https://yandex.ru/dev/direct/doc/ref-v5/feeds/feeds.html\n",
    "# https://yandex.ru/dev/direct/doc/ref-v5/feeds/get.html\n",
    "\n",
    "\n",
    "# Создание тела запроса\n",
    "params = {}\n",
    "# Отбираем ВСЕ фиды\n",
    "# params[\"SelectionCriteria\"] = {}\n",
    "# params[\"SelectionCriteria\"]['Ids'] = [432892]\n",
    "\n",
    "# Для получения параметров \n",
    "params[\"FieldNames\"] = [ \"Id\" , \"Name\" , \"BusinessType\", \"Status\"]\n",
    "\n",
    "# Имя исходного файла\n",
    "params[\"FileFeedFieldNames\"] = [ \"Filename\" ]\n",
    "\n",
    "service = 'feeds'\n",
    "method = \"get\"\n",
    "result = direct.requestAPI(service, method, params, login).json()\n",
    "result"
   ]
  },
  {
   "cell_type": "code",
   "execution_count": null,
   "id": "e4c96066",
   "metadata": {},
   "outputs": [],
   "source": []
  },
  {
   "cell_type": "markdown",
   "id": "60684e7e",
   "metadata": {},
   "source": [
    "### add - Создание AdGroup c фидом"
   ]
  },
  {
   "cell_type": "code",
   "execution_count": 66,
   "id": "b2aedac5",
   "metadata": {},
   "outputs": [
    {
     "data": {
      "text/plain": [
       "{'result': {'AddResults': [{'Id': 4965209059,\n",
       "    'Warnings': [{'Code': 10165,\n",
       "      'Message': 'Parameter will not be applied',\n",
       "      'Details': 'Товарные дополнения на поиске больше не поддерживаются. Фиды не будут добавлены к группе объявлений.'}]}]}}"
      ]
     },
     "execution_count": 66,
     "metadata": {},
     "output_type": "execute_result"
    }
   ],
   "source": [
    "# https://yandex.ru/dev/direct/doc/ref-v5/adgroups/adgroups.html\n",
    "# https://yandex.ru/dev/direct/doc/ref-v5/adgroups/add.html\n",
    "\n",
    "# id РК\n",
    "Campaigns_id = 76037266\n",
    "\n",
    "# Массив идентификаторов регионов, для которых показы включены или выключены. Массив должен содержать хотя бы один элемент.\n",
    "# Идентификатор 0 — показывать во всех регионах.\n",
    "RegionIds = [0]\n",
    "\n",
    "# Параметры AdGroup (группы объявлений)\n",
    "AdGroup = {}\n",
    "AdGroup['Name'] = \"Тестовая - 02 (с фидами)\"\n",
    "AdGroup['CampaignId'] = Campaigns_id\n",
    "AdGroup['RegionIds'] = RegionIds\n",
    "\n",
    "# Параметры подключаемого фида\n",
    "TextAdGroupFeedParams_1 = {}\n",
    "TextAdGroupFeedParams_1['FeedId'] = 432888\n",
    "AdGroup['TextAdGroupFeedParams'] = TextAdGroupFeedParams_1\n",
    "\n",
    "params = {}\n",
    "params['AdGroups'] = [AdGroup]\n",
    "\n",
    "service = 'adgroups'\n",
    "method = \"add\"\n",
    "result = direct.requestAPI(service, method, params, login).json()\n",
    "result"
   ]
  },
  {
   "cell_type": "code",
   "execution_count": null,
   "id": "5afb527c",
   "metadata": {},
   "outputs": [],
   "source": []
  },
  {
   "cell_type": "code",
   "execution_count": null,
   "id": "0ada9a6c",
   "metadata": {},
   "outputs": [],
   "source": []
  },
  {
   "cell_type": "markdown",
   "id": "08cb2599",
   "metadata": {},
   "source": [
    "# DynamicFeedAdTargets - выполнения операций с условиями нацеливания для динамических объявлений по фидам"
   ]
  },
  {
   "cell_type": "markdown",
   "id": "4318f2ae",
   "metadata": {},
   "source": [
    "### add - Создает условия нацеливания для динамических объявлений, назначает ставки или приоритеты для создаваемых условий "
   ]
  },
  {
   "cell_type": "code",
   "execution_count": 66,
   "id": "d878b5a6",
   "metadata": {},
   "outputs": [
    {
     "data": {
      "text/plain": [
       "{'result': {'AddResults': [{'Id': 4965209059,\n",
       "    'Warnings': [{'Code': 10165,\n",
       "      'Message': 'Parameter will not be applied',\n",
       "      'Details': 'Товарные дополнения на поиске больше не поддерживаются. Фиды не будут добавлены к группе объявлений.'}]}]}}"
      ]
     },
     "execution_count": 66,
     "metadata": {},
     "output_type": "execute_result"
    }
   ],
   "source": [
    "# https://yandex.ru/dev/direct/doc/ref-v5/dynamicfeedadtargets/dynamicfeedadtargets.html\n",
    "# https://yandex.ru/dev/direct/doc/ref-v5/dynamicfeedadtargets/add.html\n",
    "\n",
    "# Параметры AdGroup (группы объявлений)\n",
    "AdGroup = {}\n",
    "AdGroup['Name'] = \"Тестовая - 02 (с фидами)\"\n",
    "AdGroup['CampaignId'] = Campaigns_id\n",
    "AdGroup['RegionIds'] = RegionIds\n",
    "\n",
    "# Параметры подключаемого фида\n",
    "TextAdGroupFeedParams_1 = {}\n",
    "TextAdGroupFeedParams_1['FeedId'] = 432888\n",
    "AdGroup['TextAdGroupFeedParams'] = TextAdGroupFeedParams_1\n",
    "\n",
    "params = {}\n",
    "params['AdGroups'] = [AdGroup]\n",
    "\n",
    "service = 'dynamicfeedadtargets'\n",
    "method = \"add\"\n",
    "result = direct.requestAPI(service, method, params, login).json()\n",
    "result"
   ]
  },
  {
   "cell_type": "code",
   "execution_count": null,
   "id": "9bd179d4",
   "metadata": {},
   "outputs": [],
   "source": []
  },
  {
   "cell_type": "code",
   "execution_count": null,
   "id": "523e20f1",
   "metadata": {},
   "outputs": [],
   "source": []
  },
  {
   "cell_type": "code",
   "execution_count": null,
   "id": "4f5a9cbd",
   "metadata": {},
   "outputs": [],
   "source": []
  },
  {
   "cell_type": "markdown",
   "id": "55deae0c",
   "metadata": {},
   "source": [
    "# SmartAdTargets - операций с фильтрами — условиями нацеливания для смарт-баннеров"
   ]
  },
  {
   "cell_type": "markdown",
   "id": "ffcceed8",
   "metadata": {},
   "source": [
    "Отбор целевой аудитории происходит по двум принципам.\n",
    "* ретаргетинговый\n",
    "* поведенческий"
   ]
  },
  {
   "cell_type": "markdown",
   "id": "e7e5df47",
   "metadata": {},
   "source": [
    "### add - Создадим РК с типом \"SmartCampaign\""
   ]
  },
  {
   "cell_type": "code",
   "execution_count": 49,
   "id": "cc5af304",
   "metadata": {},
   "outputs": [
    {
     "data": {
      "text/plain": [
       "{'result': {'AddResults': [{'Id': 76271726}]}}"
      ]
     },
     "execution_count": 49,
     "metadata": {},
     "output_type": "execute_result"
    }
   ],
   "source": [
    "# https://yandex.ru/dev/direct/doc/ref-v5/campaigns/add.html#input__CampaignAddItem\n",
    "# https://yandex.ru/dev/direct/doc/ref-v5/campaigns/add-text-campaign.html#add-text-campaign__TextCampaignAddItem\n",
    "\n",
    "# Создание тела запроса\n",
    "# Параметры типа РК (текстовая РК)\n",
    "TypeParameters = {}\n",
    "TypeParameters['BiddingStrategy'] = {}\n",
    "TypeParameters['BiddingStrategy']['Search'] = {}\n",
    "TypeParameters['BiddingStrategy']['Search']['BiddingStrategyType'] = 'AVERAGE_CPC_PER_FILTER'\n",
    "\n",
    "TypeParameters['BiddingStrategy']['Search']['AverageCpcPerFilter'] = {}\n",
    "TypeParameters['BiddingStrategy']['Search']['AverageCpcPerFilter']['FilterAverageCpc'] = 2000000\n",
    "\n",
    "\n",
    "TypeParameters['BiddingStrategy']['Network'] = {}\n",
    "TypeParameters['BiddingStrategy']['Network']['BiddingStrategyType'] = 'NETWORK_DEFAULT'\n",
    "\n",
    "\n",
    "# Параметры РК\n",
    "Campaign = {}\n",
    "Campaign['Name'] = \"Test campaigns 3 (SmartCampaign)\"\n",
    "Campaign['StartDate'] = \"2026-01-01\"\n",
    "\n",
    "# Параметры типа РК (текстовая РК)\n",
    "Campaign['SmartCampaign'] = TypeParameters\n",
    "\n",
    "# Идентификатор счетчика Яндекс Метрики\n",
    "Campaign['SmartCampaign']['CounterId'] = 65071099\n",
    "\n",
    "params = {}\n",
    "params['Campaigns'] = [Campaign]\n",
    "\n",
    "service = 'campaigns'\n",
    "method = \"add\"\n",
    "result = direct.requestAPI(service, method, params, login).json()\n",
    "result"
   ]
  },
  {
   "cell_type": "markdown",
   "id": "e9cd90a1",
   "metadata": {},
   "source": [
    "### add - Создадим группу объявлений типа \"SMART_AD_GROUP\""
   ]
  },
  {
   "cell_type": "code",
   "execution_count": 55,
   "id": "2b1fe01b",
   "metadata": {},
   "outputs": [
    {
     "data": {
      "text/plain": [
       "{'result': {'AddResults': [{'Id': 4968246761}]}}"
      ]
     },
     "execution_count": 55,
     "metadata": {},
     "output_type": "execute_result"
    }
   ],
   "source": [
    "# https://yandex.ru/dev/direct/doc/ref-v5/adgroups/adgroups.html\n",
    "# https://yandex.ru/dev/direct/doc/ref-v5/adgroups/add.html\n",
    "\n",
    "# id РК\n",
    "Campaigns_id = 76271726\n",
    "\n",
    "# Массив идентификаторов регионов, для которых показы включены или выключены. Массив должен содержать хотя бы один элемент.\n",
    "# Идентификатор 0 — показывать во всех регионах.\n",
    "RegionIds = [0]\n",
    "\n",
    "# Параметры AdGroup (группы объявлений)\n",
    "AdGroup = {}\n",
    "AdGroup['Name'] = \"Тестовая группа - 03 (SMART_AD_GROUP)\"\n",
    "AdGroup['CampaignId'] = Campaigns_id\n",
    "AdGroup['RegionIds'] = RegionIds\n",
    "\n",
    "# Параметры группы с типом \"SmartAdGroup\"\n",
    "AdGroup['SmartAdGroup'] = {}\n",
    "# Идентификатор фида, на основе которого требуется сгенерировать смарт-баннеры\n",
    "AdGroup['SmartAdGroup']['FeedId'] = 238509\n",
    "\n",
    "params = {}\n",
    "params['AdGroups'] = [AdGroup]\n",
    "\n",
    "service = 'adgroups'\n",
    "method = \"add\"\n",
    "result = direct.requestAPI(service, method, params, login).json()\n",
    "result"
   ]
  },
  {
   "cell_type": "code",
   "execution_count": null,
   "id": "31fed7ec",
   "metadata": {},
   "outputs": [],
   "source": []
  },
  {
   "cell_type": "markdown",
   "id": "17adbfad",
   "metadata": {},
   "source": [
    "### add - Создает фильтры — условия нацеливания для смарт-баннеров, назначает CPC, CPA или приоритет для создаваемых фильтров"
   ]
  },
  {
   "cell_type": "markdown",
   "id": "3fe0f23c",
   "metadata": {},
   "source": [
    "**CPC, CPA** или приоритет используются в зависимости от того, какая стратегия показа выбрана в кампании:\n",
    "\n",
    "* Если в кампании настроена стратегия **AVERAGE_ROI**, то используется параметр **StrategyPriority**: фильтры с более высоким приоритетом по возможности получают больший объем трафика на поиске или долю аудитории в сетях, а при недостатке бюджета отключаются в последнюю очередь.\n",
    "\n",
    "* Если в кампании настроена стратегия **AVERAGE_CPA_PER_CAMPAIGN** или **AVERAGE_CPA_PER_FILTER**, то используется параметр **AverageCpa**.\n",
    "\n",
    "* Если в кампании настроена стратегия **AVERAGE_CPC_PER_CAMPAIGN** или **AVERAGE_CPC_PER_FILTER**, то используется параметр **AverageCpc**.\n",
    "\n",
    "Если указана ставка или приоритет, не соответствующие стратегии, они игнорируется.\n",
    "\n",
    "Если стратегия предполагает назначение ставки, а ставка не указана, используется ставка из настроек стратегии. Если стратегия предполагает назначение приоритета, а приоритет не указан, возвращается ошибка."
   ]
  },
  {
   "cell_type": "markdown",
   "id": "665974c0",
   "metadata": {},
   "source": [
    "Фильтры для смарт-баннеров можно добавить только в группу объявлений с типом **SMART_AD_GROUP**"
   ]
  },
  {
   "cell_type": "code",
   "execution_count": 57,
   "id": "cb4f5256",
   "metadata": {},
   "outputs": [
    {
     "data": {
      "text/plain": [
       "{'result': {'AddResults': [{'Id': 1861265}]}}"
      ]
     },
     "execution_count": 57,
     "metadata": {},
     "output_type": "execute_result"
    }
   ],
   "source": [
    "# https://yandex.ru/dev/direct/doc/ref-v5/smartadtargets/smartadtargets.html\n",
    "# https://yandex.ru/dev/direct/doc/ref-v5/smartadtargets/add.html\n",
    "\n",
    "\n",
    "SmartAdTarget_1 = {}\n",
    "SmartAdTarget_1['Name'] = \"test_filtr_01\"\n",
    "SmartAdTarget_1['AdGroupId'] = 4968246761\n",
    "\n",
    "# Целевая аудитория:\n",
    "# INTERESTED_IN_SIMILAR_PRODUCTS — пользователи, которые интересовались похожими товарами в сети.\n",
    "# VISITED_PRODUCT_PAGE — пользователи, которые смотрели товары на сайте рекламодателя.\n",
    "# ALL_SEGMENTS — обе группы.\n",
    "SmartAdTarget_1['Audience'] = 'ALL_SEGMENTS'\n",
    "\n",
    "\n",
    "params = {}\n",
    "params['SmartAdTargets'] = [SmartAdTarget_1]\n",
    "\n",
    "service = 'smartadtargets'\n",
    "method = \"add\"\n",
    "result = direct.requestAPI(service, method, params, login).json()\n",
    "result"
   ]
  },
  {
   "cell_type": "code",
   "execution_count": null,
   "id": "3bdc7109",
   "metadata": {},
   "outputs": [],
   "source": []
  },
  {
   "cell_type": "markdown",
   "id": "e5acb7c6",
   "metadata": {},
   "source": [
    "### get - Возвращает параметры фильтров — условий нацеливания для смарт-баннеров"
   ]
  },
  {
   "cell_type": "code",
   "execution_count": 58,
   "id": "0d3af38a",
   "metadata": {},
   "outputs": [
    {
     "data": {
      "text/plain": [
       "{'result': {'SmartAdTargets': [{'Id': 1861265,\n",
       "    'AdGroupId': 4968246761,\n",
       "    'CampaignId': 76271726,\n",
       "    'Name': 'test_filtr_01',\n",
       "    'AverageCpc': None,\n",
       "    'AverageCpa': None,\n",
       "    'StrategyPriority': None,\n",
       "    'State': 'OFF',\n",
       "    'Audience': 'ALL_SEGMENTS',\n",
       "    'Conditions': None,\n",
       "    'ConditionType': 'ITEMS_ALL',\n",
       "    'AvailableItemsOnly': 'NO'}]}}"
      ]
     },
     "execution_count": 58,
     "metadata": {},
     "output_type": "execute_result"
    }
   ],
   "source": [
    "# https://yandex.ru/dev/direct/doc/ref-v5/smartadtargets/smartadtargets.html\n",
    "\n",
    "params = {}\n",
    "params[\"SelectionCriteria\"] = {}\n",
    "# Хотя бы один из параметров CampaignIds, AdGroupIds и Ids\n",
    "# params[\"SelectionCriteria\"]['CampaignIds'] = []\n",
    "params[\"SelectionCriteria\"]['AdGroupIds'] = [4968246761]\n",
    "# params[\"SelectionCriteria\"]['Ids'] = []\n",
    "\n",
    "# Список выводимых полей - высокий уровень\n",
    "params[\"FieldNames\"] =[ \"Id\", \"AdGroupId\", \"CampaignId\", \"Name\", \"AverageCpc\", \"AverageCpa\", \"StrategyPriority\", \"Conditions\", \"ConditionType\", \"State\", \"Audience\", \"AvailableItemsOnly\" ]\n",
    "\n",
    "service = 'smartadtargets'\n",
    "method = \"get\"\n",
    "result = direct.requestAPI(service, method, params, login).json()\n",
    "result"
   ]
  },
  {
   "cell_type": "code",
   "execution_count": null,
   "id": "4b3c49d4",
   "metadata": {},
   "outputs": [],
   "source": []
  },
  {
   "cell_type": "markdown",
   "id": "c453e902",
   "metadata": {},
   "source": [
    "### Еще методы"
   ]
  },
  {
   "cell_type": "markdown",
   "id": "f8a0669d",
   "metadata": {},
   "source": [
    "* **setBids** - Назначает CPC, CPA и приоритеты для фильтров. CPC, CPA или приоритет можно назначить для отдельного фильтра, для всех фильтров в группе объявлений или для всех фильтров в кампании\n",
    "* **update**\n",
    "* **suspend** - Останавливает показы по фильтрам\n",
    "* **resume** - Возобновляет показы\n",
    "* **delete**"
   ]
  },
  {
   "cell_type": "code",
   "execution_count": null,
   "id": "451523b8",
   "metadata": {},
   "outputs": [],
   "source": []
  },
  {
   "cell_type": "code",
   "execution_count": null,
   "id": "ed1c040c",
   "metadata": {},
   "outputs": [],
   "source": []
  },
  {
   "cell_type": "markdown",
   "id": "788493ed",
   "metadata": {},
   "source": [
    "# Changes - проверка наличия изменений"
   ]
  },
  {
   "cell_type": "markdown",
   "id": "17a01860",
   "metadata": {},
   "source": [
    "### checkCampaigns - наличии изменений в кампаниях клиента начиная с указанной даты"
   ]
  },
  {
   "cell_type": "markdown",
   "id": "786e4149",
   "metadata": {},
   "source": [
    "#### !Замечание: Рассматривает ВСЕ РК и выводит только РК"
   ]
  },
  {
   "cell_type": "code",
   "execution_count": 4,
   "id": "ed1e7047",
   "metadata": {},
   "outputs": [
    {
     "data": {
      "text/plain": [
       "{'result': {'Timestamp': '2022-08-03T05:46:01Z',\n",
       "  'Campaigns': [{'ChangesIn': ['SELF', 'CHILDREN', 'STAT'],\n",
       "    'CampaignId': 65628948},\n",
       "   {'ChangesIn': ['SELF', 'CHILDREN', 'STAT'], 'CampaignId': 65628984},\n",
       "   {'ChangesIn': ['SELF', 'CHILDREN'], 'CampaignId': 65628995},\n",
       "   {'ChangesIn': ['SELF', 'CHILDREN', 'STAT'], 'CampaignId': 65629004},\n",
       "   {'ChangesIn': ['SELF', 'CHILDREN'], 'CampaignId': 65629014},\n",
       "   {'CampaignId': 66053066, 'ChangesIn': ['SELF', 'STAT']},\n",
       "   {'CampaignId': 66054403, 'ChangesIn': ['SELF', 'CHILDREN', 'STAT']},\n",
       "   {'CampaignId': 66089423, 'ChangesIn': ['SELF', 'CHILDREN']},\n",
       "   {'ChangesIn': ['SELF', 'CHILDREN', 'STAT'], 'CampaignId': 66089435},\n",
       "   {'ChangesIn': ['SELF', 'CHILDREN', 'STAT'], 'CampaignId': 66089444},\n",
       "   {'ChangesIn': ['SELF', 'CHILDREN', 'STAT'], 'CampaignId': 66089460},\n",
       "   {'ChangesIn': ['SELF', 'CHILDREN', 'STAT'], 'CampaignId': 66089478},\n",
       "   {'ChangesIn': ['SELF', 'CHILDREN'], 'CampaignId': 66089484},\n",
       "   {'ChangesIn': ['SELF', 'CHILDREN', 'STAT'], 'CampaignId': 66418007},\n",
       "   {'ChangesIn': ['SELF', 'CHILDREN', 'STAT'], 'CampaignId': 66419231},\n",
       "   {'CampaignId': 70625765, 'ChangesIn': ['SELF', 'CHILDREN', 'STAT']},\n",
       "   {'CampaignId': 71310926, 'ChangesIn': ['SELF', 'CHILDREN']},\n",
       "   {'CampaignId': 72383433, 'ChangesIn': ['SELF', 'CHILDREN']},\n",
       "   {'CampaignId': 72383443, 'ChangesIn': ['SELF', 'CHILDREN', 'STAT']},\n",
       "   {'ChangesIn': ['SELF', 'CHILDREN', 'STAT'], 'CampaignId': 72383448},\n",
       "   {'CampaignId': 72383458, 'ChangesIn': ['SELF', 'CHILDREN']},\n",
       "   {'ChangesIn': ['SELF', 'CHILDREN'], 'CampaignId': 72385070},\n",
       "   {'ChangesIn': ['SELF', 'CHILDREN', 'STAT'], 'CampaignId': 72385076},\n",
       "   {'CampaignId': 73352631, 'ChangesIn': ['SELF', 'CHILDREN']},\n",
       "   {'ChangesIn': ['SELF', 'CHILDREN', 'STAT'], 'CampaignId': 73436195},\n",
       "   {'CampaignId': 73436204, 'ChangesIn': ['SELF', 'CHILDREN', 'STAT']},\n",
       "   {'ChangesIn': ['SELF', 'CHILDREN', 'STAT'], 'CampaignId': 75100664},\n",
       "   {'CampaignId': 75343228, 'ChangesIn': ['SELF', 'CHILDREN', 'STAT']},\n",
       "   {'ChangesIn': ['SELF', 'CHILDREN', 'STAT'], 'CampaignId': 75378216},\n",
       "   {'ChangesIn': ['SELF', 'CHILDREN', 'STAT'], 'CampaignId': 75379144},\n",
       "   {'ChangesIn': ['SELF', 'CHILDREN', 'STAT'], 'CampaignId': 75860402},\n",
       "   {'CampaignId': 76036486, 'ChangesIn': ['SELF', 'CHILDREN']},\n",
       "   {'ChangesIn': ['SELF', 'CHILDREN'], 'CampaignId': 76271726},\n",
       "   {'ChangesIn': ['SELF', 'CHILDREN'], 'CampaignId': 76475566}]}}"
      ]
     },
     "execution_count": 4,
     "metadata": {},
     "output_type": "execute_result"
    }
   ],
   "source": [
    "# https://yandex.ru/dev/direct/doc/ref-v5/changes/changes.html\n",
    "# https://yandex.ru/dev/direct/doc/ref-v5/changes/checkCampaigns.html\n",
    "\n",
    "# Где именно произошли изменения:\n",
    "# SELF — в параметрах кампании;\n",
    "# CHILDREN — в дочерних объектах: группах, объявлениях, фразах;\n",
    "# STAT — корректировка статистики кампании (как правило, в связи с фильтрацией недобросовестных кликов).\n",
    "\n",
    "# Создание тела запроса\n",
    "params = {}\n",
    "# Момент времени, начиная с которого проверяются изменения. Указывается в формате YYYY-MM-DDThh:mm:ssZ (согласно ISO 8601)\n",
    "params[\"Timestamp\"] = \"2022-01-01T23:59:59Z\"\n",
    "\n",
    "service = 'changes'\n",
    "method = \"checkCampaigns\"\n",
    "result = direct.requestAPI(service, method, params, login).json()\n",
    "result"
   ]
  },
  {
   "cell_type": "code",
   "execution_count": null,
   "id": "f989e80e",
   "metadata": {},
   "outputs": [],
   "source": []
  },
  {
   "cell_type": "markdown",
   "id": "984670a3",
   "metadata": {},
   "source": [
    "### check - наличии изменений в КОНКРЕТНОЙ РК (группе. объявлении)"
   ]
  },
  {
   "cell_type": "markdown",
   "id": "248a9cea",
   "metadata": {},
   "source": [
    "#### !Замечание: Можно задавать один только 1 из ТРЕХ уровней: \"РК - группа - объявление\""
   ]
  },
  {
   "cell_type": "code",
   "execution_count": 5,
   "id": "193d0062",
   "metadata": {
    "scrolled": false
   },
   "outputs": [
    {
     "data": {
      "text/plain": [
       "{'result': {'Timestamp': '2022-08-03T05:47:18Z',\n",
       "  'Modified': {'AdGroupIds': [4717857118,\n",
       "    4717857119,\n",
       "    4717857120,\n",
       "    4717857121,\n",
       "    4717857122,\n",
       "    4717857123,\n",
       "    4717857124,\n",
       "    4717857125,\n",
       "    4717857126,\n",
       "    4717857127,\n",
       "    4717857128,\n",
       "    4717857129,\n",
       "    4717857130,\n",
       "    4717857131,\n",
       "    4717857132,\n",
       "    4717857133,\n",
       "    4717857134,\n",
       "    4717857135,\n",
       "    4717857136,\n",
       "    4717857137,\n",
       "    4717857138],\n",
       "   'AdIds': [11256876425,\n",
       "    11256876426,\n",
       "    11256876427,\n",
       "    11256876428,\n",
       "    11256876429,\n",
       "    11256876430,\n",
       "    11256876431,\n",
       "    11256876432,\n",
       "    11256876433,\n",
       "    11256876434,\n",
       "    11256876435,\n",
       "    11256876436,\n",
       "    11256876437,\n",
       "    11256876438,\n",
       "    11256876439,\n",
       "    11256876440,\n",
       "    11256876441,\n",
       "    11256876442,\n",
       "    11256876443,\n",
       "    11256876444,\n",
       "    11256876445],\n",
       "   'CampaignIds': [66418007],\n",
       "   'CampaignsStat': [{'CampaignId': 66418007, 'BorderDate': '2022-02-03'}]}}}"
      ]
     },
     "execution_count": 5,
     "metadata": {},
     "output_type": "execute_result"
    }
   ],
   "source": [
    "# https://yandex.ru/dev/direct/doc/ref-v5/changes/changes.html\n",
    "# https://yandex.ru/dev/direct/doc/ref-v5/changes/check.html\n",
    "\n",
    "\n",
    "# Создание тела запроса\n",
    "params = {}\n",
    "# Момент времени, начиная с которого проверяются изменения. Указывается в формате YYYY-MM-DDThh:mm:ssZ (согласно ISO 8601)\n",
    "params[\"Timestamp\"] = \"2022-01-01T23:59:59Z\"\n",
    "\n",
    "# Либо CampaignIds, либо AdGroupIds, либо AdIds\n",
    "params[\"CampaignIds\"] = [66418007]\n",
    "# params[\"AdGroupIds\"] = []\n",
    "# params[\"AdIds\"] = []\n",
    "\n",
    "# Список выводимых поей\n",
    "params[\"FieldNames\"] = [\"CampaignIds\", \"AdGroupIds\", \"AdIds\", \"CampaignsStat\"]\n",
    "\n",
    "service = 'changes'\n",
    "method = \"check\"\n",
    "result = direct.requestAPI(service, method, params, login).json()\n",
    "result"
   ]
  },
  {
   "cell_type": "code",
   "execution_count": null,
   "id": "cfb6e0e4",
   "metadata": {},
   "outputs": [],
   "source": []
  },
  {
   "cell_type": "markdown",
   "id": "9083427d",
   "metadata": {},
   "source": [
    "# Dictionaries -  получения справочников (константы + параметры ЯД)"
   ]
  },
  {
   "cell_type": "markdown",
   "id": "ecc6651e",
   "metadata": {},
   "source": [
    "Сервис предназначен для получения справочных данных: регионов, часовых поясов, курсов валют, станций метрополитена, ограничений на значения параметров и др."
   ]
  },
  {
   "cell_type": "markdown",
   "id": "ead61829",
   "metadata": {},
   "source": [
    "Что еще может вернуть:\n",
    "* Версии операционных систем\n",
    "* Социально-демографические характеристики и поведенческие признаки\n",
    "* Сегменты по социально-демографическим характеристикам и поведенческим признакам для таргетинга по профилю пользователя.\n",
    "* Сегменты по интересам пользователя для таргетинга по профилю пользователя\n",
    "\n",
    "Ограничения на значения параметров:\n",
    "* MaximumAdTextWordLength — максимальное количество символов в каждом слове в тексте объявления\n",
    "* MaximumSitelinkTextLength — максимальное количество символов в тексте быстрой ссылки\n",
    "* и т.д.\n",
    "\n",
    "Для валютных параметров:\n",
    "* BidIncrement — шаг торгов\n",
    "* MaximumBid — максимальная ставка за клик (техническое ограничение)\n",
    "* MinimumWeeklySpendLimit — минимальный недельный бюджет\n",
    "* и тд."
   ]
  },
  {
   "cell_type": "markdown",
   "id": "0ab0c9ea",
   "metadata": {},
   "source": [
    "### get - Возвращаем справочник \"социально-демографических характеристик\""
   ]
  },
  {
   "cell_type": "code",
   "execution_count": 33,
   "id": "19537ff3",
   "metadata": {},
   "outputs": [],
   "source": [
    "# https://yandex.ru/dev/direct/doc/ref-v5/dictionaries/dictionaries.html\n",
    "# https://yandex.ru/dev/direct/doc/ref-v5/dictionaries/get.html\n",
    "\n",
    "params = {}\n",
    "params[\"DictionaryNames\"] = [\"AudienceCriteriaTypes\"]\n",
    "\n",
    "service = 'dictionaries'\n",
    "method = \"get\"\n",
    "result = direct.requestAPI(service, method, params, login).json()\n",
    "# result"
   ]
  },
  {
   "cell_type": "code",
   "execution_count": null,
   "id": "3bb5b720",
   "metadata": {},
   "outputs": [],
   "source": []
  },
  {
   "cell_type": "markdown",
   "id": "4ac0e775",
   "metadata": {},
   "source": [
    "### get - Возвращаем справочник \"социально-демографических характеристик\""
   ]
  },
  {
   "cell_type": "code",
   "execution_count": 36,
   "id": "d73e279e",
   "metadata": {},
   "outputs": [],
   "source": [
    "# https://yandex.ru/dev/direct/doc/ref-v5/dictionaries/dictionaries.html\n",
    "# https://yandex.ru/dev/direct/doc/ref-v5/dictionaries/get.html\n",
    "\n",
    "params = {}\n",
    "params[\"DictionaryNames\"] = [\"GeoRegions\"]\n",
    "\n",
    "service = 'dictionaries'\n",
    "method = \"get\"\n",
    "result = direct.requestAPI(service, method, params, login).json()\n",
    "# result"
   ]
  },
  {
   "cell_type": "code",
   "execution_count": null,
   "id": "d37afe16",
   "metadata": {},
   "outputs": [],
   "source": []
  }
 ],
 "metadata": {
  "kernelspec": {
   "display_name": "Python 3 (ipykernel)",
   "language": "python",
   "name": "python3"
  },
  "language_info": {
   "codemirror_mode": {
    "name": "ipython",
    "version": 3
   },
   "file_extension": ".py",
   "mimetype": "text/x-python",
   "name": "python",
   "nbconvert_exporter": "python",
   "pygments_lexer": "ipython3",
   "version": "3.9.7"
  }
 },
 "nbformat": 4,
 "nbformat_minor": 5
}
